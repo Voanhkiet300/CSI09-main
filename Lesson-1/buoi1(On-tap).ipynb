{
 "cells": [
  {
   "cell_type": "markdown",
   "metadata": {},
   "source": [
    "# I. Thành phần cơ bản"
   ]
  },
  {
   "cell_type": "markdown",
   "metadata": {},
   "source": [
    "## 1. Input + output"
   ]
  },
  {
   "cell_type": "code",
   "execution_count": null,
   "metadata": {},
   "outputs": [],
   "source": [
    "# Nhập vào tên 1 người, in lại tên người đó\n",
    "print(\"Tên bạn là:\", input(\"your name: \"))"
   ]
  },
  {
   "cell_type": "markdown",
   "metadata": {},
   "source": [
    "## 2. biến và hằng"
   ]
  },
  {
   "cell_type": "code",
   "execution_count": null,
   "metadata": {},
   "outputs": [],
   "source": [
    "# biến số\n",
    "a = 10\n",
    "a # tự print giá trị của biến (mỗi đoạn code chỉ print được 1 biến)\n"
   ]
  },
  {
   "cell_type": "code",
   "execution_count": null,
   "metadata": {},
   "outputs": [],
   "source": [
    "# hằng số (giống cách khai báo với biến số)\n",
    "PI = 3.14\n",
    "PI"
   ]
  },
  {
   "cell_type": "markdown",
   "metadata": {},
   "source": [
    "## 3. Kiểu dữ liệu + chuyển kiểu dữ liệu"
   ]
  },
  {
   "cell_type": "code",
   "execution_count": 7,
   "metadata": {},
   "outputs": [],
   "source": [
    "var_int = 3\n",
    "var_float = 1.3\n",
    "var_boolean = True\n",
    "\n",
    "var_string = \"Hello world\"\n",
    "var_string2 = 'a' # character"
   ]
  },
  {
   "cell_type": "markdown",
   "metadata": {},
   "source": [
    "### Cách xem  kiểu dữ liệu của 1 biến"
   ]
  },
  {
   "cell_type": "code",
   "execution_count": null,
   "metadata": {},
   "outputs": [],
   "source": [
    "type(var_string)"
   ]
  },
  {
   "cell_type": "markdown",
   "metadata": {},
   "source": [
    "** Không cần xđ kiểu dữ liệu khi khởi tại biến -> có thể thay đổi kiểu dữ liệu biến đã tạo\n",
    "** Tên biến giống \"nhãn dán\" trên dữ liệu được lưu trong bộ nhớ -> thay đổi giá trị biến -> chuyển nhãn dán từ vị trí khác trong bộ nhớ."
   ]
  },
  {
   "cell_type": "markdown",
   "metadata": {},
   "source": [
    "### Chuyển kiểu dữ liệu"
   ]
  },
  {
   "cell_type": "code",
   "execution_count": null,
   "metadata": {},
   "outputs": [],
   "source": [
    "# int - float\n",
    "var1 = 1.9\n",
    "int(var1)"
   ]
  },
  {
   "cell_type": "code",
   "execution_count": null,
   "metadata": {},
   "outputs": [],
   "source": [
    "# str - int/ float\n",
    "var2 = \"123.1\"\n",
    "# int(var2) # loi do ko xd duoc \".\"\n",
    "float(var2)"
   ]
  },
  {
   "cell_type": "code",
   "execution_count": null,
   "metadata": {},
   "outputs": [],
   "source": [
    "# str - bool\n",
    "var3 = \"True\"\n",
    "bool(var3)"
   ]
  },
  {
   "cell_type": "markdown",
   "metadata": {},
   "source": [
    "## 4. Phép toán"
   ]
  },
  {
   "cell_type": "markdown",
   "metadata": {},
   "source": [
    "### a. phép toán học"
   ]
  },
  {
   "cell_type": "code",
   "execution_count": null,
   "metadata": {},
   "outputs": [],
   "source": [
    "num1 = 13\n",
    "num2 = 6.3\n",
    "num3 = 6\n",
    "\n",
    "print(\"Cộng\", num1 + num2)\n",
    "print(\"Trừ\", num1 - num2)\n",
    "print(\"Nhân\", num1 * num2)\n",
    "print(\"Chia\", num1 / num2)\n",
    "print(\"Chia lấy dư\", num1 % num3)\n",
    "print(\"Chia lấy nguyên\", num1 // num2) # python 3\n",
    "print(\"mũ\", num2**num3)"
   ]
  },
  {
   "cell_type": "markdown",
   "metadata": {},
   "source": [
    "### b. Phép so sánh + logic"
   ]
  },
  {
   "cell_type": "code",
   "execution_count": null,
   "metadata": {},
   "outputs": [],
   "source": [
    "print(\"And\", num1 > num2 and num1 == num3)\n",
    "print(\"Or\", num1 <= num2 or num1 == num3)\n",
    "print(\"Not\", not num1 >= num3)"
   ]
  },
  {
   "cell_type": "markdown",
   "metadata": {},
   "source": [
    "## 5. Hàm (function - def)\n",
    "* Hàm trả về (có return)\n",
    "* Hàm không trả về (không có return)\n",
    "* Hàm có tham số (có parameter)\n",
    "* Hàm không có tham số (không có parameter)"
   ]
  },
  {
   "cell_type": "code",
   "execution_count": null,
   "metadata": {},
   "outputs": [],
   "source": [
    "sum_f = lambda a, b : a + b # Hàm 1 dòng + trả về\n",
    "print(sum_f(\"str1\", \"str2\"))\n",
    "print(sum_f(12, 56))"
   ]
  },
  {
   "cell_type": "code",
   "execution_count": null,
   "metadata": {},
   "outputs": [],
   "source": [
    "# tham số truyền vào mặc định\n",
    "def hello_name(name = \"World\"):\n",
    "    print(\"Hello\", name)\n",
    "hello_name()\n",
    "hello_name(\"Kiet\")"
   ]
  },
  {
   "cell_type": "markdown",
   "metadata": {},
   "source": [
    "## 6. Module\n",
    "* code python có thể được đóng gói thành module và được sử dụng bởi các file python khác bằng các import.\n",
    "* Module có sẵn được gọi là thư viện"
   ]
  },
  {
   "cell_type": "code",
   "execution_count": null,
   "metadata": {},
   "outputs": [],
   "source": [
    "# use the library\n",
    "import math\n",
    "\n",
    "print(math.sqrt(16)) # Tính căn bậc hai\n",
    "print(\"sin\", math.sin(math.pi/2))"
   ]
  },
  {
   "cell_type": "code",
   "execution_count": 21,
   "metadata": {},
   "outputs": [],
   "source": [
    "# use my module\n",
    "import a\n",
    "import b\n"
   ]
  },
  {
   "cell_type": "markdown",
   "metadata": {},
   "source": [
    "# II. Cấu trúc điều khiển"
   ]
  },
  {
   "cell_type": "markdown",
   "metadata": {},
   "source": [
    "## 1. Câu điều kiện"
   ]
  },
  {
   "cell_type": "code",
   "execution_count": null,
   "metadata": {},
   "outputs": [],
   "source": [
    "# viết tắt\n",
    "print(\"a\") if 3<4 else print(\"b\")\n",
    "\n",
    "# viết thường\n",
    "if 1 < 3 < 4:\n",
    "    print(\"a\")\n",
    "else:\n",
    "    print(\"b\")\n",
    "\n",
    "# Ví dụ về câu điều kiện với nhiều điều kiện"
   ]
  },
  {
   "cell_type": "markdown",
   "metadata": {},
   "source": [
    "## 2. Vòng lặp for\n",
    "* range(start, end, stop)\n",
    "* for lặp theo range\n",
    "* for duyệt qua phần tử"
   ]
  },
  {
   "cell_type": "code",
   "execution_count": null,
   "metadata": {},
   "outputs": [],
   "source": [
    "# cách viết tắt\n",
    "listNum = [i for i in range(1, 11, 2)]\n",
    "\n",
    "# cách viết thường\n",
    "for i in range(1, 11, 2):\n",
    "    print(i)\n",
    "\n",
    "print(listNum)"
   ]
  },
  {
   "cell_type": "code",
   "execution_count": null,
   "metadata": {},
   "outputs": [],
   "source": [
    "# Cách viết thường\n",
    "for char in \"nguyen van a\":\n",
    "    if char != \"a\":\n",
    "        print(char)\n",
    "# viết tắt\n",
    "characterList = [char for char in \"Nguyen Van A\" if char != \"a\"]\n",
    "print(characterList)"
   ]
  },
  {
   "cell_type": "code",
   "execution_count": null,
   "metadata": {},
   "outputs": [],
   "source": [
    "# Kết hợp if - else + for\n",
    "numList = [i if i % 2 == 0 else print(\"Số lẻ:\", i) for i in range(10)]"
   ]
  },
  {
   "cell_type": "markdown",
   "metadata": {},
   "source": [
    "## 3. Vòng lặp while\n",
    "* chú ý không đặt đk trả về True hoàn toàn => vòng lặp vô hạn"
   ]
  },
  {
   "cell_type": "code",
   "execution_count": null,
   "metadata": {},
   "outputs": [],
   "source": [
    "i = 12\n",
    "\n",
    "while i > 10:\n",
    "    print(i)\n",
    "    i -= 1"
   ]
  },
  {
   "cell_type": "markdown",
   "metadata": {},
   "source": [
    "## 4. Xử lý exception"
   ]
  },
  {
   "cell_type": "markdown",
   "metadata": {},
   "source": [
    "### a. cấu trúc try... except..."
   ]
  },
  {
   "cell_type": "code",
   "execution_count": null,
   "metadata": {},
   "outputs": [],
   "source": [
    "try:\n",
    "    var1 = int('123.0')\n",
    "except:\n",
    "    print(\"throw an exeption\")"
   ]
  },
  {
   "cell_type": "code",
   "execution_count": null,
   "metadata": {},
   "outputs": [],
   "source": [
    "try:\n",
    "    var1 = int('123.0')\n",
    "except ValueError: # catch a specific exception\n",
    "    print(\"throw a value error\")\n",
    "except:\n",
    "    print(\"throw an exception\")"
   ]
  },
  {
   "cell_type": "markdown",
   "metadata": {},
   "source": [
    "### b. cấu trúc try... except... finally..."
   ]
  },
  {
   "cell_type": "code",
   "execution_count": null,
   "metadata": {},
   "outputs": [],
   "source": [
    "f = None\n",
    "try:\n",
    "    f = open(\"demofile.txt\", \"r\")\n",
    "except:\n",
    "    print(\"No file\")\n",
    "finally:\n",
    "    if f != None:\n",
    "        f.close()\n",
    "        print(\"closed this file\")"
   ]
  },
  {
   "cell_type": "markdown",
   "metadata": {},
   "source": [
    "# III. OOP\n",
    "* Python là một ngôn ngữ lập trình theo hướng đối tượng (Object oriented programming)\n",
    "* OOP cho phép lập trình viên tạo ra các đối tượng trừu tượng nhằm làm code đơn giản, dễ đọc, dễ bảo trì."
   ]
  },
  {
   "cell_type": "markdown",
   "metadata": {},
   "source": [
    "## 1. Class + object"
   ]
  },
  {
   "cell_type": "code",
   "execution_count": 16,
   "metadata": {},
   "outputs": [],
   "source": [
    "class Person:\n",
    "    race = \"human\" # class attribute\n",
    "    def __init__(self, name, age):\n",
    "        self.name = name\n",
    "        self.age = age\n",
    "\n",
    "    def say_hi(self):\n",
    "        print(\"Hello, my name is\", self.name)\n",
    "    @classmethod\n",
    "    def a(cls):\n",
    "        print(cls.race)\n"
   ]
  },
  {
   "cell_type": "code",
   "execution_count": 14,
   "metadata": {},
   "outputs": [
    {
     "name": "stdout",
     "output_type": "stream",
     "text": [
      "Hello, my name is Join\n",
      "human\n"
     ]
    },
    {
     "data": {
      "text/plain": [
       "'human'"
      ]
     },
     "execution_count": 14,
     "metadata": {},
     "output_type": "execute_result"
    }
   ],
   "source": [
    "# tao object\n",
    "join = Person(\"Join\", \"25\")\n",
    "join.say_hi()\n",
    "join.a()\n",
    "join.race"
   ]
  },
  {
   "cell_type": "markdown",
   "metadata": {},
   "source": [
    "### Thuộc tính Public và Private"
   ]
  },
  {
   "cell_type": "code",
   "execution_count": 17,
   "metadata": {},
   "outputs": [],
   "source": [
    "class Person:\n",
    "    race = \"human\" # class attribute\n",
    "    def __init__(self, name, age):\n",
    "        self.__name = name # private attribute\n",
    "        self.age = age # public attribute\n",
    "\n",
    "    def say_hi(self):\n",
    "        print(\"Hello, my name is\", self.name)\n",
    "\n",
    "    def __get_next_age(self):\n",
    "        return self.age + 1"
   ]
  },
  {
   "cell_type": "code",
   "execution_count": null,
   "metadata": {},
   "outputs": [],
   "source": [
    "obj = Person(\"ABC\", 30)\n",
    "obj.age\n",
    "# obj.__name"
   ]
  },
  {
   "cell_type": "markdown",
   "metadata": {},
   "source": [
    "## 2. Tính kế thừa (inheritance)"
   ]
  },
  {
   "cell_type": "code",
   "execution_count": 27,
   "metadata": {},
   "outputs": [],
   "source": [
    "class student(Person):\n",
    "    def __init__(self, name, age):\n",
    "        super().__init__(name, age)\n",
    "        # print(self.__get_next_age()) # kế thừa không sử dụng được\n",
    "\n",
    "# tao student object\n",
    "student1 = student(\"John\", 20)"
   ]
  }
 ],
 "metadata": {
  "kernelspec": {
   "display_name": "Python 3",
   "language": "python",
   "name": "python3"
  },
  "language_info": {
   "codemirror_mode": {
    "name": "ipython",
    "version": 3
   },
   "file_extension": ".py",
   "mimetype": "text/x-python",
   "name": "python",
   "nbconvert_exporter": "python",
   "pygments_lexer": "ipython3",
   "version": "3.12.2"
  }
 },
 "nbformat": 4,
 "nbformat_minor": 2
}
