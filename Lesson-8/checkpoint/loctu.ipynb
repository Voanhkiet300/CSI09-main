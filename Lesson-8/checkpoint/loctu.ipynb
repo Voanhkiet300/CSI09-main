{
 "cells": [
  {
   "cell_type": "code",
   "execution_count": 14,
   "metadata": {},
   "outputs": [],
   "source": [
    "text = \"The cat is chasing the rat. The dog is also chasing the rat.\""
   ]
  },
  {
   "cell_type": "code",
   "execution_count": 21,
   "metadata": {},
   "outputs": [
    {
     "data": {
      "text/plain": [
       "['the', 'cat', 'is', 'chasing', 'rat', 'dog', 'also']"
      ]
     },
     "execution_count": 21,
     "metadata": {},
     "output_type": "execute_result"
    }
   ],
   "source": [
    "a = ''\n",
    "for i in text:\n",
    "    if i.isalpha() or i == \" \":\n",
    "        a += i\n",
    "\n",
    "a = a.lower()\n",
    "\n",
    "a = a.split(\" \")\n",
    "output = []\n",
    "for i in a:\n",
    "    if i not in output:\n",
    "        output.append(i)\n",
    "output"
   ]
  }
 ],
 "metadata": {
  "kernelspec": {
   "display_name": "Python 3",
   "language": "python",
   "name": "python3"
  },
  "language_info": {
   "codemirror_mode": {
    "name": "ipython",
    "version": 3
   },
   "file_extension": ".py",
   "mimetype": "text/x-python",
   "name": "python",
   "nbconvert_exporter": "python",
   "pygments_lexer": "ipython3",
   "version": "3.13.0"
  }
 },
 "nbformat": 4,
 "nbformat_minor": 2
}
