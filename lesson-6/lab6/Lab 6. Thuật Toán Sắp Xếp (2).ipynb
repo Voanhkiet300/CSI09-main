{
 "cells": [
  {
   "cell_type": "markdown",
   "metadata": {
    "id": "ON0ry65w49O-"
   },
   "source": [
    "## <center>Computer Science Intensive Course - MindX</center>\n",
    "![](./assets/logo.png)\n",
    "# <center>LAB 6. THUẬT TOÁN SẮP XẾP (2)</center>"
   ]
  },
  {
   "cell_type": "markdown",
   "metadata": {
    "id": "IEOgERz049PL"
   },
   "source": [
    "## Bài 1. Quick Sort Partition\n",
    "\n",
    "Ta đã biết Quicksort rơi vào trường hợp xấu nhất khi *pivot* được chọn luôn luôn là phần tử lớn nhất hoặc nhỏ nhất. Đối với code trên bài học, trường hợp này xảy ra khi dãy đã được sắp xếp (tăng dần hoặc giảm dần).  \n",
    "\n",
    "Ta có thể chạy thử trường hợp này ở hai đoạn code phía dưới: sắp xếp dãy 10000 phần tử đã được sắp xếp giảm dần."
   ]
  },
  {
   "cell_type": "code",
   "execution_count": 1,
   "metadata": {
    "id": "UFKPJBrf49PP",
    "outputId": "822afbde-b2a6-4fe3-d9ee-ec9a4a64727e"
   },
   "outputs": [
    {
     "name": "stdout",
     "output_type": "stream",
     "text": [
      "Before sorting: [9999, 9998, 9997, 9996, 9995, 9994, 9993, 9992, 9991, 9990] ... [9, 8, 7, 6, 5, 4, 3, 2, 1, 0]\n"
     ]
    }
   ],
   "source": [
    "num_arr = [i for i in range(9999, -1, -1)]\n",
    "print(\"Before sorting: {} ... {}\".format(num_arr[:10], num_arr[-10:]))"
   ]
  },
  {
   "cell_type": "code",
   "execution_count": 9,
   "metadata": {},
   "outputs": [],
   "source": [
    "\n",
    "def merge(arr, left, right, mid):\n",
    "\n",
    "    arr1 = arr[left:mid]\n",
    "    arr2 = arr[mid:right]\n",
    "\n",
    "    n1 = len(arr1)\n",
    "    n2 = len(arr2)\n",
    "    i = j = 0\n",
    "    k = left\n",
    "    \n",
    "    while i < n1 and j < n2:\n",
    "        if arr1[i] < arr2[j]:\n",
    "            arr[k] = arr1[i]\n",
    "            i += 1\n",
    "        else:\n",
    "            arr[k] = arr2[j]\n",
    "            j += 1\n",
    "        k += 1\n",
    "        \n",
    "    while i < len(arr1):\n",
    "        arr[k] = arr1[i]\n",
    "        i += 1\n",
    "        k += 1\n",
    "    while j < len(arr2):\n",
    "        arr[k] = arr2[j]\n",
    "        j += 1\n",
    "        k += 1\n",
    "\n",
    "def merge_sort(arr):\n",
    "    n = len(arr)\n",
    "    size = 1\n",
    "    while size < n:\n",
    "        for left in range(0, n, size * 2):\n",
    "            mid = min(left + size, n)\n",
    "            right = min(left + size * 2, n)\n",
    "            merge(arr, left, right, mid)\n",
    "        size *= 2"
   ]
  },
  {
   "cell_type": "code",
   "execution_count": 10,
   "metadata": {},
   "outputs": [
    {
     "name": "stdout",
     "output_type": "stream",
     "text": [
      "After sorting: [0, 1, 2, 3, 4, 5, 6, 7, 8, 9] ... [9990, 9991, 9992, 9993, 9994, 9995, 9996, 9997, 9998, 9999]\n"
     ]
    }
   ],
   "source": [
    "merge_sort(num_arr)\n",
    "print(\"After sorting: {} ... {}\".format(num_arr[:10], num_arr[-10:]))"
   ]
  },
  {
   "cell_type": "code",
   "execution_count": null,
   "metadata": {
    "id": "N9-avD5E49PR",
    "outputId": "f6aa53f3-bcf5-42ea-9c36-388aaabe404f"
   },
   "outputs": [],
   "source": [
    "num_arr = [i for i in range(9999, -1, -1)]\n",
    "print(\"Before sorting: {} ... {}\".format(num_arr[:10], num_arr[-10:]))"
   ]
  },
  {
   "cell_type": "code",
   "execution_count": 45,
   "metadata": {},
   "outputs": [],
   "source": [
    "\n",
    "def partition_right(arr, left, right):\n",
    "    pivot = arr[right - 1]\n",
    "    i = left - 1\n",
    "    for j in range(left, right - 1):\n",
    "        if arr[j] < pivot:\n",
    "            i += 1\n",
    "            arr[i], arr[j] = arr[j], arr[i]\n",
    "    arr[i + 1], arr[right - 1] = arr[right - 1], arr[i + 1]\n",
    "    return i + 1\n",
    "\n",
    "def quick_sort_right(arr, left, right):\n",
    "    if right - left <= 1:\n",
    "        return\n",
    "    if len(arr) <= 1:\n",
    "        return\n",
    "    partition_index = partition_right(arr, left, right)\n",
    "\n",
    "    # de quy\n",
    "    quick_sort_right(arr, left, partition_index)\n",
    "    quick_sort_right(arr, partition_index + 1, right)"
   ]
  },
  {
   "cell_type": "code",
   "execution_count": null,
   "metadata": {},
   "outputs": [],
   "source": [
    "\n",
    "quick_sort_right(num_arr, 0, len(num_arr))\n",
    "print(\"After sorting: {} ... {}\".format(num_arr[:10], num_arr[-10:]))"
   ]
  },
  {
   "cell_type": "markdown",
   "metadata": {
    "id": "2VHm4Sxo49PT"
   },
   "source": [
    "*Nhận xét*: Merge Sort có thể chạy rất tốt, trong khi Quicksort bị lỗi gọi đệ quy quá nhiều lần.  "
   ]
  },
  {
   "cell_type": "markdown",
   "metadata": {
    "id": "xxoB0Emv49PU"
   },
   "source": [
    "**Yêu cầu**: Hãy viết hàm *partition_mid* chọn *pivot* là phần tử nằm chính giữa dãy, chuyển tất cả phần tử nhỏ hơn hoặc bằng *pivot* về bên trái và tất cả phần tử lớn hơn hoặc bằng *pivot* về bên phải. Biết index của phần tử chính giữa dãy được tính bằng công thức *mid = (len(arr)-1)//2*.  \n",
    "\n",
    "**Input**: Một dãy *arr* chứa *1 < n < 10<sup>6</sup>* số thực. Mỗi phần tử có giá trị trong khoảng [-10<sup>9</sup>, 10<sup>9</sup>].  \n",
    "**Output**: Dãy đã được chia thành hai phần và một số index sao cho tất cả phần tử ở *arr[:index]* đều nhỏ hơn hoặc bằng *pivot* và *arr[index:]* đều lớn hơn hoặc bằng *pivot*.  \n",
    "**Ví dụ**:\n",
    "- Input: [5, 9, 1, 12, 30, 35, 75, 10, 15, 20, 4, 0, 20, 0, 20, 3, 6, 14]\n",
    "- Output: [5, 9, 1, 12, 14, 6, 3, 10, 0, 0, 4, 20, 20, 15, 20, 75, 35, 30], 11\n",
    "- Giải thích:\n",
    "  + Ta tính vị trí của pivot theo công thức: mid = (len(arr)-1)//2 = (18-1)//2 = 8\n",
    "  + Như vậy, pivot = arr[8] = 15\n",
    "  + Sau khi chuyển, ta có index = 11.  \n",
    "    Tất cả phần tử có index từ 0 đến 10 đều <= 15.  \n",
    "    Tất cả phần tử có index từ 11 đến 17 đều >= 15."
   ]
  },
  {
   "cell_type": "code",
   "execution_count": 1,
   "metadata": {
    "id": "jCgJyPDB49PW"
   },
   "outputs": [
    {
     "name": "stdout",
     "output_type": "stream",
     "text": [
      "[5, 9, 1, 12, 14, 6, 3, 10, 0, 0, 4, 20, 20, 15, 20, 75, 35, 30] 11\n"
     ]
    }
   ],
   "source": [
    "def partition_mid(arr, left, right):\n",
    "    # pivot = arr[right - 1]\n",
    "    pivot = arr[(right-1) // 2]\n",
    "    i = 0\n",
    "    j = right - 1\n",
    "    while i <= j:\n",
    "      while arr[i] < pivot:\n",
    "        i += 1\n",
    "      while arr[j] > pivot:\n",
    "        j -= 1\n",
    "      if i <= j:\n",
    "        # swap if found arr[i] >= pivot >= arr[j]\n",
    "        arr[i], arr[j] = arr[j], arr[i]\n",
    "        i += 1\n",
    "        j -= 1\n",
    "    return arr, i\n",
    "\n",
    "\n",
    "arr = [5, 9, 1, 12, 30, 35, 75, 10, 15, 20, 4, 0, 20, 0, 20, 3, 6, 14]\n",
    "result, index = partition_mid(arr, 0, len(arr))\n",
    "print(result, index)\n"
   ]
  },
  {
   "cell_type": "markdown",
   "metadata": {
    "id": "g7xsrC1K49PY"
   },
   "source": [
    "## Bài 2. Quicksort Với Pivot Giữa\n",
    "\n",
    "Dựa vào hàm *partition_mid* ở bài trên, hãy viết thuật toán Quicksort chọn phần tử chính giữa dãy làm *pivot*.\n",
    "\n",
    "**Input**: Một dãy *arr* chứa *0 < n < 10<sup>6</sup>* số thực. Mỗi phần tử có giá trị trong khoảng [-10<sup>9</sup>, 10<sup>9</sup>].  \n",
    "**Output**: Dãy đã được sắp xếp từ nhỏ đến lớn.  \n",
    "**Ví dụ**:\n",
    "- Input: [3, 2, 1]\n",
    "- Output: [1, 2, 3]\n",
    "\n",
    "Sau khi hoàn tất, hãy thử chạy lại thuật toán Quicksort với mảng đã được sắp xếp giảm dần phía dưới."
   ]
  },
  {
   "cell_type": "code",
   "execution_count": null,
   "metadata": {
    "id": "DM9dfhf149PZ",
    "outputId": "d8940f42-f66b-41ec-a3cc-f3d359151be3"
   },
   "outputs": [
    {
     "name": "stdout",
     "output_type": "stream",
     "text": [
      "[9999, 9998, 9997, 9996, 9995, 9994, 9993, 9992, 9991, 9990] ... [9, 8, 7, 6, 5, 4, 3, 2, 1, 0]\n"
     ]
    }
   ],
   "source": [
    "num_arr = [i for i in range(9999, -1, -1)]\n",
    "print(\"{} ... {}\".format(num_arr[:10], num_arr[-10:]))"
   ]
  },
  {
   "cell_type": "code",
   "execution_count": 2,
   "metadata": {
    "id": "Ii9N84uc49Pa"
   },
   "outputs": [],
   "source": [
    "def quick_sort_mid_pivot(arr, left, right):\n",
    "    if left - right <= 1:\n",
    "      return\n",
    "    if len(arr) <= 1:\n",
    "      return\n",
    "    partition_index = partition_mid(arr, left, right)[1]\n",
    "    quick_sort_mid_pivot(arr, left, partition_index)\n",
    "    quick_sort_mid_pivot(arr, partition_index, right)\n",
    "    return arr"
   ]
  },
  {
   "cell_type": "code",
   "execution_count": 3,
   "metadata": {},
   "outputs": [
    {
     "name": "stdout",
     "output_type": "stream",
     "text": [
      "Before sorting: [9999, 9998, 9997, 9996, 9995, 9994, 9993, 9992, 9991, 9990] ... [9, 8, 7, 6, 5, 4, 3, 2, 1, 0]\n",
      "After sorting: [9999, 9998, 9997, 9996, 9995, 9994, 9993, 9992, 9991, 9990] ... [9, 8, 7, 6, 5, 4, 3, 2, 1, 0]\n"
     ]
    }
   ],
   "source": [
    "num_arr = [i for i in range(9999, -1, -1)]\n",
    "print(\"Before sorting: {} ... {}\".format(num_arr[:10], num_arr[-10:]))\n",
    "\n",
    "quick_sort_mid_pivot(num_arr, 0, 10000)\n",
    "print(\"After sorting: {} ... {}\".format(num_arr[:10], num_arr[-10:]))"
   ]
  },
  {
   "cell_type": "markdown",
   "metadata": {
    "id": "Hlq5cgV949Pc"
   },
   "source": [
    "## Bài 3. Hybrid Sort\n",
    "\n",
    "Trong các thư viện, người ta thường dùng các thuật toán lai (*hybrid algorithm*) cho các hàm sắp xếp, tức kết hợp các thuật toán sắp xếp với nhau.  \n",
    "\n",
    "Ví dụ, Quicksort chạy tốt trên danh sách có kích thước lớn, nhưng Insertion Sort lại chạy tốt hơn Quicksort trên các danh sách có kích thước nhỏ *(n < 10)*. Do đó, ta có thể dùng Quicksort khi danh sách có kích thước >= 10 và Insertion Sort khi kích thước < 10.\n",
    "\n",
    "Dựa vào ý tưởng trên, hãy viết một thuật toán lai giữa Quicksort và Insertion Sort. Có thể dùng code đã viết ở các bài trước.  \n",
    "\n",
    "**Input**: Một dãy *arr* chứa *0 < n < 10<sup>6</sup>* số thực. Mỗi phần tử có giá trị trong khoảng [-10<sup>9</sup>, 10<sup>9</sup>].  \n",
    "**Output**: Dãy đã được sắp xếp từ nhỏ đến lớn.  \n",
    "**Ví dụ**:\n",
    "- Input: [3, 2, 1, 5, 4, 7, 6]\n",
    "- Output: [1, 2, 3, 4, 5, 6, 7]"
   ]
  },
  {
   "cell_type": "code",
   "execution_count": 4,
   "metadata": {
    "id": "cwQcC1MY49Pc"
   },
   "outputs": [],
   "source": [
    "def partition_mid(arr, left, right):\n",
    "    mid = (left+right-1)//2\n",
    "    pivot = arr[mid]\n",
    "    i = left\n",
    "    j = right-1\n",
    "    while i <= j:\n",
    "        while arr[i] < pivot:\n",
    "            i += 1\n",
    "        while arr[j] > pivot:\n",
    "            j -= 1\n",
    "        if i <= j:\n",
    "            arr[i], arr[j] = arr[j], arr[i]\n",
    "            i += 1\n",
    "            j -= 1\n",
    "    return i"
   ]
  },
  {
   "cell_type": "code",
   "execution_count": 5,
   "metadata": {},
   "outputs": [],
   "source": [
    "def insertion_sort(arr, left, right):\n",
    "  for i in range(left, right):\n",
    "    j = i\n",
    "    while j > 0 and arr[j] < arr[j-1]:\n",
    "      arr[j], arr[j-1] = arr[j-1], arr[j] #swap\n",
    "      j -= 1\n",
    "  return arr\n",
    "\n",
    "def hybrid_quick_sort(arr, left, right):\n",
    "    if right - left <= 1:\n",
    "      return\n",
    "    if len(arr) <= 1:\n",
    "      return\n",
    "    partition_index = partition_mid(arr, left, right)\n",
    "    # sort left part\n",
    "    if partition_index - left < 10:\n",
    "      insertion_sort(arr, left, partition_index)\n",
    "    else:\n",
    "      hybrid_quick_sort(arr, left, partition_index)\n",
    "    # sort right part\n",
    "    if right - partition_index < 10:\n",
    "      insertion_sort(arr, partition_index, right)\n",
    "\n",
    "def hybrid_sort(arr):\n",
    "  hybrid_quick_sort(arr, 0, len(arr))\n",
    "  return arr"
   ]
  },
  {
   "cell_type": "code",
   "execution_count": 6,
   "metadata": {},
   "outputs": [
    {
     "name": "stdout",
     "output_type": "stream",
     "text": [
      "Before sorting: [9999, 9998, 9997, 9996, 9995, 9994, 9993, 9992, 9991, 9990] ... [9, 8, 7, 6, 5, 4, 3, 2, 1, 0]\n",
      "After sorting: [0, 1, 2, 3, 4, 5, 6, 7, 8, 9] ... [9990, 9991, 9992, 9993, 9994, 9995, 9996, 9997, 9998, 9999]\n"
     ]
    }
   ],
   "source": [
    "# driver code\n",
    "num_arr = [i for i in range(9999, -1, -1)]\n",
    "print(\"Before sorting: {} ... {}\".format(num_arr[:10], num_arr[-10:]))\n",
    "\n",
    "hybrid_sort(num_arr)\n",
    "print(\"After sorting: {} ... {}\".format(num_arr[:10], num_arr[-10:]))"
   ]
  }
 ],
 "metadata": {
  "colab": {
   "provenance": []
  },
  "kernelspec": {
   "display_name": "Python 3",
   "language": "python",
   "name": "python3"
  },
  "language_info": {
   "codemirror_mode": {
    "name": "ipython",
    "version": 3
   },
   "file_extension": ".py",
   "mimetype": "text/x-python",
   "name": "python",
   "nbconvert_exporter": "python",
   "pygments_lexer": "ipython3",
   "version": "3.13.0"
  }
 },
 "nbformat": 4,
 "nbformat_minor": 0
}
