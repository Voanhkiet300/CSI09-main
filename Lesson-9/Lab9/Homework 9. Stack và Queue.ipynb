{
 "cells": [
  {
   "cell_type": "markdown",
   "metadata": {
    "id": "CRiEIhGHTFmh"
   },
   "source": [
    "## <center>Computer Science Intensive Course - MindX</center>\n",
    "![](./assets/logo.png)\n",
    "# <center>HOMEWORK 9. STACK VÀ QUEUE</center>"
   ]
  },
  {
   "cell_type": "markdown",
   "metadata": {
    "id": "d2AQBvVzTFmi"
   },
   "source": [
    "## Bài Tập: Tính Toán Trên Chuỗi.\n",
    "\n",
    "**Bài toán**: Cho một chuỗi ký tự bao gồm số nguyên dương và các toán tử hai ngôi <code>+ - * /</code>, hãy tính giá trị của biểu thức trong chuỗi.\n",
    "\n",
    "**Input**: Một biểu thức dưới dạng string, mỗi toán tử và toán hạng cách nhau bằng đúng một dấu cách.  \n",
    "**Output**: Một số thực là giá trị của biểu thức. Test case đảm bảo mọi biểu thức đều hợp lệ và có giá trị là số thực.  \n",
    "**Ví dụ**:\n",
    "- Input: \"2 * 3 - 20 / 5\"\n",
    "- Output: 2.0\n",
    "- Giải thích: <code>2*3 - 20/5 = 6 - 4 = 2</code>\n",
    "\n",
    "**Hướng dẫn**: Nếu không có khác biệt về độ ưu tiên của phép cộng, trừ và nhân, chia, ta có thể thực hiện tính toán tuần tự đơn giản từ trái sang phải. Tuy nhiên, do các phép tính có độ ưu tiên khác nhau, ta có thể thêm các bước xử lý để thực hiện đúng thứ tự:\n",
    "1. Duyệt biểu thức từ trái sang phải.\n",
    "2. Nếu gặp toán tử, thực hiện các toán tử nằm trước mà có độ ưu tiên cao hơn hoặc bằng toán tử đang xét.\n",
    "3. Cuối cùng, thực hiện tính toán trên các toán tử chưa xử lý theo thứ tự từ phải sang trái.\n",
    "\n",
    "Quá trình này sẽ thuận tiện hơn nếu ta tách chuỗi thành mảng các phần tử và lưu danh sách các toán hạng và toán tử đã duyệt.  \n",
    "\n",
    "**Ví dụ**: tính giá trị biểu thức <code>2 * 3 - 20 / 5</code>\n",
    "- Toán tử đầu tiên là <code>*</code>, không có toán tử nào trước nó, ta tạm thời bỏ qua.\n",
    "- Toán tử tiếp theo là <code>-</code>, có toán tử <code>*</code> trước nó với độ ưu tiên cao hơn => thực hiện phép nhân => biểu thức trở thành <code>6 - 20 / 5</code>\n",
    "- Toán tử tiếp theo là <code>/</code>, có toán tử <code>-</code> trước nó nhưng độ ưu tiên thấp hơn => bỏ qua.\n",
    "- Đã duyệt hết biểu thức, thực hiện tính toán theo thứ tự từ phải sang trái:\n",
    "  <code>6 - 20 / 5 = 6 - 4 = 2</code>"
   ]
  },
  {
   "cell_type": "code",
   "execution_count": 1,
   "metadata": {
    "id": "RwTRBzdT-WYC"
   },
   "outputs": [],
   "source": [
    "# import deque\n",
    "from collections import deque\n",
    "\n",
    "\n",
    "# kiem tra do uu tien cua cac dau\n",
    "def is_precede (op1, op2):\n",
    "    precedence = {\"+\": 1, \"-\": 1, \"*\": 2, \"/\": 2}\n",
    "    return precedence[op1] >= precedence[op2] # neu dau co do uu tien 2 => lam truoc"
   ]
  },
  {
   "cell_type": "code",
   "execution_count": 2,
   "metadata": {},
   "outputs": [],
   "source": [
    "# tinh toan dua tren dau duoc nhap vao\n",
    "def eval_operation (value1, value2, operator):\n",
    "    if operator == \"+\":\n",
    "        return value1 + value2\n",
    "    elif operator == \"-\":\n",
    "        return value1 - value2\n",
    "    elif operator == \"*\":\n",
    "        return value1 * value2\n",
    "    elif operator == \"/\":\n",
    "        return value1 / value2"
   ]
  },
  {
   "cell_type": "code",
   "execution_count": 3,
   "metadata": {},
   "outputs": [],
   "source": [
    "# ham xu ly input\n",
    "def evaluate(expression):\n",
    "  # init\n",
    "  value_stack = deque() # danh sach chua so can tinh\n",
    "  op_stack = deque() # danh sach chua dau phep toan\n",
    "  # cat du lieu => chuyen du lieu ve dung dinh dang\n",
    "  for el in expression.split(\" \"):\n",
    "    try:\n",
    "      # them so\n",
    "      value_stack.append(float(el)) # them so cho danh sach\n",
    "    except:\n",
    "      # them dau\n",
    "      while(len(op_stack) > 0 and is_precede(op_stack[-1], el)):\n",
    "        # thuc hien toan\n",
    "        value2 = value_stack.pop()\n",
    "        value1 = value_stack.pop()\n",
    "        op = op_stack.pop()\n",
    "        op_result = eval_operation(value1, value2, op)\n",
    "        value_stack.append(op_result)\n",
    "\n",
    "      op_stack.append(el) # them dau vao danh sach\n",
    "\n",
    "  # tinh cac phep toan con lai\n",
    "  while(len(op_stack) > 0):\n",
    "    value2 = value_stack.pop()\n",
    "    value1 = value_stack.pop()\n",
    "    op = op_stack.pop()\n",
    "    op_result = eval_operation(value1, value2, op)\n",
    "    value_stack.append(op_result)\n",
    "\n",
    "  return value_stack.pop()"
   ]
  },
  {
   "cell_type": "code",
   "execution_count": 4,
   "metadata": {},
   "outputs": [
    {
     "data": {
      "text/plain": [
       "2.0"
      ]
     },
     "execution_count": 4,
     "metadata": {},
     "output_type": "execute_result"
    }
   ],
   "source": [
    "evaluate(\"2 * 3 - 20 / 5\")"
   ]
  }
 ],
 "metadata": {
  "colab": {
   "provenance": []
  },
  "kernelspec": {
   "display_name": "Python 3",
   "language": "python",
   "name": "python3"
  },
  "language_info": {
   "codemirror_mode": {
    "name": "ipython",
    "version": 3
   },
   "file_extension": ".py",
   "mimetype": "text/x-python",
   "name": "python",
   "nbconvert_exporter": "python",
   "pygments_lexer": "ipython3",
   "version": "3.13.0"
  }
 },
 "nbformat": 4,
 "nbformat_minor": 0
}
