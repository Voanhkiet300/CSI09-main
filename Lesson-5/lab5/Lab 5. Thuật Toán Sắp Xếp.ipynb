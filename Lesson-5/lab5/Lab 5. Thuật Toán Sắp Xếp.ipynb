{
 "cells": [
  {
   "cell_type": "markdown",
   "metadata": {
    "id": "o2dgoErZAcbU"
   },
   "source": [
    "## <center>Computer Science Intensive Course - MindX</center>\n",
    "![](./assets/logo.png)\n",
    "# <center>LAB 5. THUẬT TOÁN SẮP XẾP (1)</center>"
   ]
  },
  {
   "cell_type": "markdown",
   "metadata": {
    "id": "y5QLX3a6Acbf"
   },
   "source": [
    "## Bài 1. Dãy Số Ngược\n",
    "\n",
    "**Input**: Một dãy *0 < n < 10<sup>6</sup>* số thực đã được sắp xếp theo thứ tự giảm dần. Mỗi phần tử có giá trị trong khoảng [-10<sup>9</sup>, 10<sup>9</sup>].  \n",
    "**Output**: Dãy đã được sắp xếp theo thứ tự tăng dần.  \n",
    "**Ví dụ**:\n",
    "- Input: [90.12, 50.2, 20.0, 3.14159, 0.0, -12.2, -12.2, -1000.0, -99999999.0]\n",
    "- Output: [-99999999.0, -1000.0, -12.2, -12.2, 0.0, 3.14159, 20.0, 50.2, 90.12]"
   ]
  },
  {
   "cell_type": "code",
   "execution_count": 1,
   "metadata": {
    "id": "b3NxJugaAcbi"
   },
   "outputs": [
    {
     "data": {
      "text/plain": [
       "[-99999999.0, -1000.0, -12.2, -12.2, 0.0, 3.14159, 20.0, 50.2, 90.12]"
      ]
     },
     "execution_count": 1,
     "metadata": {},
     "output_type": "execute_result"
    }
   ],
   "source": [
    "def sort_descending_list(inp_list):\n",
    "    return inp_list[::-1]\n",
    "\n",
    "sort_descending_list([90.12, 50.2, 20.0, 3.14159, 0.0, -12.2, -12.2, -1000.0, -99999999.0])"
   ]
  },
  {
   "cell_type": "markdown",
   "metadata": {
    "id": "3hmr7onxAcbl"
   },
   "source": [
    "## Bài 2. Số Phức\n",
    "\n",
    "Một số phức có dạng:\n",
    "\\begin{equation} z = a + bi \\end{equation}\n",
    "với a, b là số thực từ âm vô cùng đến dương vô cùng  \n",
    "**Ví dụ**: z = 3.5 + 1.3i\n",
    "\n",
    "Modulo của một số phức là giá trị được tính bằng công thức:\n",
    "\\begin{equation} |z| = \\sqrt{a^2 + b^2} \\end{equation}\n",
    "\n",
    "Cho danh sách *n* số phức, hãy sắp xếp danh sách theo thứ tự tăng dần của modulo.\n",
    "\n",
    "**Input**: Một *list* gồm *0 < n < 10<sup>4</sup>* số phức, mỗi số được lưu dưới dạng tuple *(a, b)*, với *-10<sup>9</sup> < a, b < 10<sup>9</sup>*.  \n",
    "**Output**: List các số phức sau khi đã sắp xếp theo thứ tự tăng dần của modulo.  \n",
    "**Ví dụ**:\n",
    "- Input: [(32.4, -30.0), (2.57, -2.3), (-111.0, 20.2), (34.5, 20.0), (8.97, -13.2), (6.67, 12.2), (9.09, 12.0)]\n",
    "- Output: [(2.57, -2.3), (6.67, 12.2), (9.09, 12.0), (8.97, -13.2), (34.5, 20.0), (32.4, -30.0), (-111.0, 20.2)]\n",
    "- Giải thích: Ở phần tử thứ nhất của input, modulo được tính bằng\n",
    "\\begin{equation} |z| = \\sqrt{32.4^2 + (-30.0)^2} = 44.15608678313784 \\end{equation}\n",
    "Tương tự, ta tính modulo của các phần tử còn lại và sắp xếp dãy dựa theo modulo.  \n",
    "\n",
    "**Gợi ý**: Sử dụng hàm *math.sqrt()* để tính căn bậc 2"
   ]
  },
  {
   "cell_type": "code",
   "execution_count": 3,
   "metadata": {},
   "outputs": [],
   "source": [
    "import math\n",
    "list = [(32.4, -30.0), (2.57, -2.3), (-111.0, 20.2), (34.5, 20.0), (8.97, -13.2), (6.67, 12.2), (9.09, 12.0)]"
   ]
  },
  {
   "cell_type": "code",
   "execution_count": 4,
   "metadata": {
    "id": "1AXiWe_5Acbn"
   },
   "outputs": [],
   "source": [
    "def modulo(a,b):\n",
    "    return math.sqrt(a**2 + b**2)\n",
    "\n",
    "def is_bigger_complex(group1, group2):\n",
    "    return modulo(group1[0], group1[1]) > modulo(group2[0], group2[1])\n",
    "\n",
    "def bubble_sort(arr):\n",
    "  for i in range(len(arr) - 1, 0, -1):\n",
    "    for j in range(i):\n",
    "      if is_bigger_complex(arr[j], arr[j + 1]):\n",
    "        arr[j], arr[j + 1] = arr[j + 1], arr[j]\n",
    "  return arr\n"
   ]
  },
  {
   "cell_type": "code",
   "execution_count": 5,
   "metadata": {},
   "outputs": [],
   "source": [
    "def sort_complex_list(arr):\n",
    "    return bubble_sort(arr)"
   ]
  },
  {
   "cell_type": "code",
   "execution_count": 6,
   "metadata": {},
   "outputs": [
    {
     "data": {
      "text/plain": [
       "[(2.57, -2.3),\n",
       " (6.67, 12.2),\n",
       " (9.09, 12.0),\n",
       " (8.97, -13.2),\n",
       " (34.5, 20.0),\n",
       " (32.4, -30.0),\n",
       " (-111.0, 20.2)]"
      ]
     },
     "execution_count": 6,
     "metadata": {},
     "output_type": "execute_result"
    }
   ],
   "source": [
    "sort_complex_list(list)"
   ]
  },
  {
   "cell_type": "markdown",
   "metadata": {
    "id": "cPQ5HYf4Acbr"
   },
   "source": [
    "## Bài 3. Sắp Xếp Hai Tầng\n",
    "\n",
    "Một báo cáo điểm cuối năm của một trường THPT cho từng học sinh có dạng:\n",
    "{'id': 984, 'math': 9.0, 'literature': 5.4}\n",
    "\n",
    "Cho danh sách điểm cuối năm, hãy sắp xếp danh sách theo quy tắc sau:\n",
    "- Học sinh có điểm toán cao hơn đứng trước\n",
    "- Nếu hai học sinh có cùng điểm toán, học sinh có điểm ngữ văn cao hơn đứng trước\n",
    "- Nếu có cùng điểm ngữ văn, học sinh nào đứng trước trong danh sách gốc đứng trước\n",
    "\n",
    "**Input**: Một *list* gồm *0 < n < 10<sup>4</sup>* báo cáo điểm của học sinh.  \n",
    "**Output**: List các báo cáo điểm sau khi đã sắp xếp.  \n",
    "**Ví dụ**:\n",
    "- Input: [{'id': 984, 'math': 9.0, 'literature': 5.4}, {'id': 12, 'math': 9.5, 'literature': 4.3}, {'id': 324, 'math': 9.0, 'literature': 5.4}]\n",
    "- Output: [{'id': 12, 'math': 9.5, 'literature': 4.3}, {'id': 984, 'math': 9.0, 'literature': 5.4}, {'id': 324, 'math': 9.0, 'literature': 5.4}]"
   ]
  },
  {
   "cell_type": "code",
   "execution_count": 7,
   "metadata": {
    "id": "AWme1U9IAcbs"
   },
   "outputs": [
    {
     "data": {
      "text/plain": [
       "[{'id': 984, 'math': 9.0, 'literature': 5.4},\n",
       " {'id': 12, 'math': 9.5, 'literature': 4.3},\n",
       " {'id': 324, 'math': 9.0, 'literature': 5.4}]"
      ]
     },
     "execution_count": 7,
     "metadata": {},
     "output_type": "execute_result"
    }
   ],
   "source": [
    "def is_higher_rank(student1, student2):\n",
    "    if student1[\"math\"] != student2[\"math\"]:\n",
    "        return student1[\"math\"] < student2[\"math\"]\n",
    "    return student1[\"literature\"] < student2[\"literature\"]\n",
    "        \n",
    "def selection_sort(arr):\n",
    "    if len(arr) <= 1:\n",
    "        return arr\n",
    "    for i in range(len(arr)):\n",
    "        min_index = i\n",
    "    for j in range(i+1, len(arr)):\n",
    "        if is_higher_rank(arr[min_index], arr[j]):\n",
    "            min_index = j\n",
    "        #swap\n",
    "        arr[i], arr[min_index] = arr[min_index], arr[i]\n",
    "    return arr\n",
    "def sort_student_grades(grade_list):\n",
    "    return selection_sort(grade_list)\n",
    "sort_student_grades([{'id': 984, 'math': 9.0, 'literature': 5.4}, {'id': 12, 'math': 9.5, 'literature': 4.3}, {'id': 324, 'math': 9.0, 'literature': 5.4}])"
   ]
  },
  {
   "cell_type": "markdown",
   "metadata": {
    "id": "PAxCLljlAcbu"
   },
   "source": [
    "## Bài 4. Nhập Dãy\n",
    "\n",
    "**Input**: Hai dãy *0 < n1, n2 < 10<sup>6</sup>* số thực đã được sắp xếp theo thứ tự tăng dần. Mỗi phần tử có giá trị trong khoảng [-10<sup>9</sup>, 10<sup>9</sup>]. Hãy nhập hai dãy số này thành một dãy được sắp xếp theo thứ tự tăng dần. (Biết *n1 + n2 < 10<sup>6</sup>*)   \n",
    "**Output**: Dãy đã nhập được sắp xếp theo thứ tự tăng dần.  \n",
    "**Ví dụ**:\n",
    "- Input: arr1 = [-99999999.0, -12.2, 0.0, 20.0, 50.2, 90.12], arr2 = [-1000.0, -12.2, 3.14159]\n",
    "- Output: [-99999999.0, -1000.0, -12.2, -12.2, 0.0, 3.14159, 20.0, 50.2, 90.12]"
   ]
  },
  {
   "cell_type": "code",
   "execution_count": 8,
   "metadata": {
    "id": "nNGTrj1vAcbu",
    "outputId": "e2b60d5c-4c9a-4fd9-e689-da2e555cb391"
   },
   "outputs": [
    {
     "data": {
      "text/plain": [
       "[-99999999.0, -1000.0, -12.2, -12.2, 0.0, 3.14159, 20.0, 50.2, 90.12]"
      ]
     },
     "execution_count": 8,
     "metadata": {},
     "output_type": "execute_result"
    }
   ],
   "source": [
    "def merge_lists(arr1, arr2):\n",
    "    n1 = len(arr1)\n",
    "    n2 = len(arr2)\n",
    "    arr3 = [None] * (n1 + n2) # gop list\n",
    "    i = 0\n",
    "    j = 0\n",
    "    k = 0\n",
    "# lay phan tu + sap xep\n",
    "    while i < n1 and j < n2:\n",
    "        if arr1[i] < arr2[j]:\n",
    "            arr3[k] = arr1[i]\n",
    "            i += 1\n",
    "        else:\n",
    "            arr3[k] = arr2[j]\n",
    "            j+=1\n",
    "        k+=1\n",
    "# sap nhung phan tu con thua \n",
    "    arr3[k:k+n1 -i] = arr1[i:n1]\n",
    "    k += n1 - i\n",
    "    arr3[k:k+n2 -j] = arr2[j:n2]\n",
    "    return arr3\n",
    "\n",
    "arr1 = [-99999999.0, -12.2, 0.0, 20.0, 50.2, 90.12]\n",
    "arr2 = [-1000.0, -12.2, 3.14159]\n",
    "merge_lists(arr1, arr2)"
   ]
  }
 ],
 "metadata": {
  "colab": {
   "provenance": []
  },
  "kernelspec": {
   "display_name": "Python 3",
   "language": "python",
   "name": "python3"
  },
  "language_info": {
   "codemirror_mode": {
    "name": "ipython",
    "version": 3
   },
   "file_extension": ".py",
   "mimetype": "text/x-python",
   "name": "python",
   "nbconvert_exporter": "python",
   "pygments_lexer": "ipython3",
   "version": "3.13.0"
  }
 },
 "nbformat": 4,
 "nbformat_minor": 0
}
