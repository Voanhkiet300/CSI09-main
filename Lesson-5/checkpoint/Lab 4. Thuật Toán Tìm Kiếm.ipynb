{
 "cells": [
  {
   "cell_type": "markdown",
   "metadata": {
    "id": "Ty4Nx5hp1m69"
   },
   "source": [
    "## <center>Computer Science Intensive Course - MindX</center>\n",
    "![](./assets/logo.png)\n",
    "# <center>LAB 4. THUẬT TOÁN TÌM KIẾM</center>"
   ]
  },
  {
   "cell_type": "markdown",
   "metadata": {
    "id": "Y0ImotcV1m7E"
   },
   "source": [
    "## Bài 1. Đếm Từ\n",
    "\n",
    "Cho một đoạn văn gồm nhiều từ và dấu câu, mỗi từ trong đoạn văn cách nhau bằng ít nhất một dấu cách. Đếm tần suất xuất hiện của một từ trong đoạn văn đó (không phân biệt chữ hoa và thường).\n",
    "\n",
    "**Input**: Một đoạn văn dưới dạng *str* với độ dài < 10^6 ký tự và một từ.  \n",
    "**Output**: Tần suất xuất hiện của từ đã cho trong đoạn văn.  \n",
    "**Ví dụ**:\n",
    "- Input: \"The cat is chasing the rat in Netherlands. The dog is also chasing the rat.\", \"the\"\n",
    "- Output: 4\n",
    "- Giải thích: Từ \"the\" xuất hiện 4 lần, không phân biệt chữ hoa và thường.\n",
    "  \n",
    "**Gợi ý**: Kiểm tra một ký tự có nằm trong bảng chữ cái không:"
   ]
  },
  {
   "cell_type": "code",
   "execution_count": null,
   "metadata": {
    "id": "UZxBUFlX1m7F",
    "outputId": "d427f6a1-d75f-4d20-f522-adab54c0b429"
   },
   "outputs": [
    {
     "name": "stdout",
     "output_type": "stream",
     "text": [
      "Từ rat xuất hiện 2 lần, không phân biệt chữ hoa và thường.\n"
     ]
    }
   ],
   "source": [
    "ch = \"The cat is chasing the rat in Netherlands. The dog is also chasing the rat.\"\n",
    "ch2 = input(\"Nhập một tù trong câu\")"
   ]
  },
  {
   "cell_type": "code",
   "execution_count": null,
   "metadata": {
    "id": "VnXHTIz21m7G"
   },
   "outputs": [],
   "source": [
    "def count_word(text, word):\n",
    "    \n",
    "    text = text.lower()\n",
    "    text = text.replace('.', '').replace(',', '')\n",
    "    \n",
    "    word = word.lower()\n",
    "    \n",
    "    words = text.split(\" \")\n",
    "    \n",
    "    count = words.count(word)\n",
    "    return \"Từ {} xuất hiện {} lần, không phân biệt chữ hoa và thường.\".format(word, count)\n",
    "output = count_word(ch, ch2)\n",
    "print(output)"
   ]
  },
  {
   "cell_type": "markdown",
   "metadata": {
    "id": "osTbWSup1m7I"
   },
   "source": [
    "## Bài 2. Rút Gọn Phân Số\n",
    "\n",
    "**Input**: Một phân số a/b với 0 < a, b < 10^9 là số nguyên.  \n",
    "**Output**: Phân số a/b sau khi đã rút gọn.  \n",
    "**Ví dụ**:  \n",
    "Ví dụ 1:\n",
    "- Input: a = 20, b = 4\n",
    "- Output: a = 5, b = 1  \n",
    "\n",
    "Ví dụ 2:\n",
    "- Input: a = 7, b = 20\n",
    "- Output: a = 7, b = 20"
   ]
  },
  {
   "cell_type": "code",
   "execution_count": 56,
   "metadata": {
    "id": "My8zFDIL1m7I"
   },
   "outputs": [],
   "source": [
    "def reduce_fraction(a, b):\n",
    "    num = 1\n",
    "    for i in range(1, b+1):\n",
    "        if b % i == 0 and a % i == 0:\n",
    "            num = i\n",
    "    a = a/num\n",
    "    b = b/num\n",
    "    return \"a = {}, b = {}\".format(a, b)"
   ]
  },
  {
   "cell_type": "code",
   "execution_count": 59,
   "metadata": {},
   "outputs": [
    {
     "data": {
      "text/plain": [
       "'a = 1.0, b = 4.0'"
      ]
     },
     "execution_count": 59,
     "metadata": {},
     "output_type": "execute_result"
    }
   ],
   "source": [
    "reduce_fraction(5, 20)"
   ]
  }
 ],
 "metadata": {
  "colab": {
   "provenance": []
  },
  "kernelspec": {
   "display_name": "Python 3",
   "language": "python",
   "name": "python3"
  },
  "language_info": {
   "codemirror_mode": {
    "name": "ipython",
    "version": 3
   },
   "file_extension": ".py",
   "mimetype": "text/x-python",
   "name": "python",
   "nbconvert_exporter": "python",
   "pygments_lexer": "ipython3",
   "version": "3.11.9"
  }
 },
 "nbformat": 4,
 "nbformat_minor": 0
}
