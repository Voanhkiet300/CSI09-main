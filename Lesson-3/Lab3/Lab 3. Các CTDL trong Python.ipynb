{
 "cells": [
  {
   "cell_type": "markdown",
   "metadata": {
    "id": "rHIlOkh2Zy9F"
   },
   "source": [
    "## <center>Computer Science Intensive Course - MindX</center>\n",
    "![](./assets/logo.png)\n",
    "# <center>LAB 3. CÁC CTDL TRONG PYTHON</center>"
   ]
  },
  {
   "cell_type": "markdown",
   "metadata": {
    "id": "RFScUXegZy9Q"
   },
   "source": [
    "## Bài 1. Lọc Từ\n",
    "\n",
    "Cho một đoạn văn gồm nhiều từ và dấu câu, mỗi từ trong đoạn văn cách nhau bằng ít nhất một dấu cách. Lọc ra các từ đã xuất hiện trong đoạn văn và sắp xếp theo thứ tự bảng chữ cái (không phân biệt chữ hoa và thường).\n",
    "\n",
    "**Input**: Một đoạn văn dưới dạng *str* với độ dài < 10^6 ký tự.  \n",
    "**Output**: Một *list* chứa các từ đã xuất hiện trong đoạn văn theo thứ tự bảng chữ cái. Trả về *list* rỗng nếu không có từ nào.  \n",
    "**Ví dụ**:\n",
    "- Input: \"The cat is chasing the rat. The dog is also chasing the rat.\"\n",
    "- Output: ['cat', 'chasing', 'is', 'rat', 'the']\n",
    "- Giải thích: Output là các từ đã xuất hiện trong đoạn văn được sắp xếp theo bảng chữ cái. Các từ 'is' và 'the' xuất hiện nhiều lần được lọc ra.\n",
    "  \n",
    "**Gợi ý**: Lọc các ký tự đặc biệt"
   ]
  },
  {
   "cell_type": "code",
   "execution_count": 3,
   "metadata": {
    "id": "wSHZM9PHZy9T",
    "outputId": "8ea279bf-2f89-4479-b7b0-86bac2e938cc"
   },
   "outputs": [
    {
     "data": {
      "text/plain": [
       "'ThecatischasingtheratThedogisalsochasingtherat'"
      ]
     },
     "execution_count": 3,
     "metadata": {},
     "output_type": "execute_result"
    }
   ],
   "source": [
    "string = \"The cat is chasing the rat. The dog is also chasing the rat.\"\n",
    "''.join(c for c in string if c.isalpha())"
   ]
  },
  {
   "cell_type": "code",
   "execution_count": 4,
   "metadata": {
    "id": "XBF5bS5vZy9W"
   },
   "outputs": [
    {
     "name": "stdout",
     "output_type": "stream",
     "text": [
      "['also', 'cat', 'chasing', 'dog', 'is', 'rat', 'the']\n"
     ]
    }
   ],
   "source": [
    "def filter_words(text):\n",
    "    clean_text = ''\n",
    "    for char in text:\n",
    "        if char.isalpha() or char.isspace():\n",
    "            clean_text += char.lower()\n",
    "        else:\n",
    "            clean_text += ' '\n",
    "\n",
    "    words = clean_text.split()\n",
    "\n",
    "    unique_words = set(words)\n",
    "\n",
    "    sorted_words = sorted(unique_words)\n",
    "\n",
    "    return sorted_words\n",
    "output = filter_words(string)\n",
    "print(output)"
   ]
  },
  {
   "cell_type": "markdown",
   "metadata": {
    "id": "dPk4PSKUZy9Z"
   },
   "source": [
    "## Bài 2. Cắt Chữ\n",
    "\n",
    "Cho một đoạn văn gồm nhiều từ và dấu câu. Mỗi từ trong đoạn văn cách nhau bằng ít nhất một dấu cách. Đoạn văn này được hiển thị trên màn hình có độ rộng *k* ký tự. Hãy cắt đoạn văn này thành những chuỗi nhỏ hơn sao cho:\n",
    "- Mỗi chuỗi là dài nhất có thể\n",
    "- Mỗi chuỗi không được dài hơn k ký tự.\n",
    "- Không từ nào bị cắt ở giữa (VD không được cắt \"MindX Technology School.\" thành \"MindX Tech\" và \"nology School.\")\n",
    "- Không có dấu cách ở đầu và cuối chuỗi đã cắt (VD có thể cắt \"MindX Technology School.\" thành \"MindX Technology\" và \"School.\")\n",
    "\n",
    "**Input**: Một đoạn văn dưới dạng *str* với độ dài < 10^6 ký tự và một số nguyên *0 < k < 50*. Không từ nào dài hơn k.  \n",
    "**Output**: Trả về một list các chuỗi đã cắt.   \n",
    "**Ví dụ**:  \n",
    "- Input: \"The cat is chasing the rat. The dog is also chasing the rat.\", k=10\n",
    "- Output: ['The cat is', 'chasing', 'the rat.', 'The dog is', 'also', 'chasing', 'the rat.']"
   ]
  },
  {
   "cell_type": "code",
   "execution_count": 5,
   "metadata": {},
   "outputs": [],
   "source": [
    "inp_str = \"The cat is chasing the rat. The dog is also chasing the rat.\"\n",
    "k = 10"
   ]
  },
  {
   "cell_type": "code",
   "execution_count": null,
   "metadata": {
    "id": "eUAkw7ksZy9b"
   },
   "outputs": [],
   "source": [
    "def wrap_text(inp_str, k):\n",
    "    inp_str = inp_str.split()\n",
    "    result = []\n",
    "    current_line = \"\"\n",
    "    for word in inp_str:\n",
    "        if len(current_line) + len(word) + 1 <= k:\n",
    "            current_line += word + \" \"\n",
    "            if len(current_line.strip()) == k:\n",
    "                result.append(current_line.strip())\n",
    "                current_line = \"\"\n",
    "        "
   ]
  },
  {
   "cell_type": "markdown",
   "metadata": {
    "id": "AwaWsPTHZy9d"
   },
   "source": [
    "## Bài 3. Phần Tử Bất Thường\n",
    "\n",
    "Cho hai *list* giống nhau về các phần tử nhưng khác nhau về thứ tự. Các phần tử trong *list* không trùng nhau. Tuy nhiên do sự cố, một trong hai list bị dư một phần tử lạ không trùng với các phần tử khác. Hãy tìm giá trị của phần tử đó.  \n",
    "\n",
    "**Input**: Hai list số nguyên có độ dài *n* và *n+1* (hoặc *n+1* và *n*) với *0 < n < 10^6*.  \n",
    "**Output**: Một số nguyên là giá trị của phần tử bất thường.  \n",
    "**Ví dụ**:\n",
    "- Input: [1, 4, 5, 7, 9], [7, 4, 1, 9]\n",
    "- Output: 5"
   ]
  },
  {
   "cell_type": "code",
   "execution_count": null,
   "metadata": {
    "id": "DTN1RafPZy9e"
   },
   "outputs": [],
   "source": [
    "def find_anomaly(list_1, list_2):\n",
    "    pass"
   ]
  },
  {
   "cell_type": "markdown",
   "metadata": {
    "id": "fmkGM_BkZy9h"
   },
   "source": [
    "## Bài 4. Tổng Đường Chéo\n",
    "\n",
    "Cho một ma trận với *n* dòng và *n* cột. Hãy tính tổng các giá trị trên hai đường chéo của ma trận.\n",
    "\n",
    "**Input**: Ma trận *n x n* dưới dạng *list lồng nhau*, với *0 < n < 1000*. Mỗi phần tử trong khoảng [-10^6, 10^6]  \n",
    "**Output**: Một *tuple* bao gồm hai giá trị là tổng các giá trị trên đường chéo chính và đường chéo phụ, theo thứ tự.  \n",
    "**Ví dụ**:\n",
    "- Input:  \n",
    "     [[1, 2, 3],  \n",
    "&nbsp;[4, 5, 6],  \n",
    "&nbsp;[7, 8, 9]]\n",
    "- Output: (15, 15)\n",
    "- Giải thích: Tổng trên đường chéo chính là 1+5+9 = 15; trên đường chéo phụ là 3+5+7 = 15\n",
    "\n",
    "**Gợi ý**:\n",
    "Trong Python, ma trận có thể được lưu trữ dưới dạng *list lồng nhau*, tức các phần tử trong *list* là các *list* khác, mỗi *list* phần tử có cùng độ dài.  \n",
    "Cách truy vấn:"
   ]
  },
  {
   "cell_type": "code",
   "execution_count": null,
   "metadata": {
    "id": "NXeinSaiZy9h",
    "outputId": "fd7bea82-994c-4a6d-e0f6-1b97c347936a"
   },
   "outputs": [
    {
     "name": "stdout",
     "output_type": "stream",
     "text": [
      "Second row: [4, 5, 6]\n",
      "Element at row 0, column 1: 2\n"
     ]
    }
   ],
   "source": [
    "matrix = [[1, 2, 3],\n",
    "          [4, 5, 6],\n",
    "          [7, 8, 9]]\n",
    "\n",
    "print(\"Second row: {}\".format(matrix[1]))\n",
    "print(\"Element at row 0, column 1: {}\".format(matrix[0][1]))"
   ]
  },
  {
   "cell_type": "code",
   "execution_count": null,
   "metadata": {
    "id": "QJKBiNfjZy9i"
   },
   "outputs": [],
   "source": [
    "def sum_diagonals(matrix):\n",
    "    diagonal_1 = 0\n",
    "    diagonal_2 = 0\n",
    "\n",
    "    for row in range(len(matrix)):\n",
    "        # tinh duong cheo phu\n",
    "        diagonal_2 += matrix[row][len(matrix) - row - 1]\n",
    "        for col in range(len(matrix[row])):\n",
    "            # tinh duong cheo chinh\n",
    "            if row == col:\n",
    "                diagonal_1 += matrix[row][col]\n",
    "\n",
    "    return (diagonal_1, (diagonal_2))\n",
    "\n",
    "\n",
    "sum_diagonals(matrix)"
   ]
  }
 ],
 "metadata": {
  "colab": {
   "provenance": []
  },
  "kernelspec": {
   "display_name": "Python 3",
   "language": "python",
   "name": "python3"
  },
  "language_info": {
   "codemirror_mode": {
    "name": "ipython",
    "version": 3
   },
   "file_extension": ".py",
   "mimetype": "text/x-python",
   "name": "python",
   "nbconvert_exporter": "python",
   "pygments_lexer": "ipython3",
   "version": "3.11.9"
  }
 },
 "nbformat": 4,
 "nbformat_minor": 0
}
