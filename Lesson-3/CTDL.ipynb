{
 "cells": [
  {
   "cell_type": "markdown",
   "metadata": {},
   "source": [
    "# 1. CTDL có thứ tự\n",
    "* CTDL có thứu tự có nghĩa là thứ tự phần tuer trong ctdl được đảm bảo trong quá trình lưu trữ và xử lí"
   ]
  },
  {
   "cell_type": "markdown",
   "metadata": {},
   "source": []
  }
 ],
 "metadata": {
  "language_info": {
   "name": "python"
  }
 },
 "nbformat": 4,
 "nbformat_minor": 2
}
