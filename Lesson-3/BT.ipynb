{
 "cells": [
  {
   "cell_type": "code",
   "execution_count": 1,
   "metadata": {},
   "outputs": [],
   "source": [
    "import numpy as np"
   ]
  },
  {
   "cell_type": "markdown",
   "metadata": {},
   "source": [
    "# Bai 1: Sắp xếp dãy\n",
    "* Yêu cầu: cho 2 dãy số arr1 và arr2 dưới dạng list, nhập 2 dãy số -> sắp xếp theo thứ tự giảm dần"
   ]
  },
  {
   "cell_type": "code",
   "execution_count": null,
   "metadata": {},
   "outputs": [],
   "source": [
    "arr1 = np.random.randint(0, 10000, 15).tolist()\n",
    "arr2 = np.random.randint(0, 10000, 15).tolist()"
   ]
  },
  {
   "cell_type": "code",
   "execution_count": 3,
   "metadata": {},
   "outputs": [
    {
     "name": "stdout",
     "output_type": "stream",
     "text": [
      "[9957, 9730, 9352, 9293, 9153, 9127, 8646, 8237, 8128, 8030, 7734, 7077, 6545, 5852, 5521, 4636, 3857, 3648, 3584, 3394, 2936, 2930, 2687, 2578, 2523, 2482, 1825, 1715, 592, 17]\n"
     ]
    }
   ],
   "source": [
    "# cong 2 mang\n",
    "arr1 += arr2\n",
    "arr1.sort(reverse=True)\n",
    "print(arr1)"
   ]
  }
 ],
 "metadata": {
  "kernelspec": {
   "display_name": "Python 3",
   "language": "python",
   "name": "python3"
  },
  "language_info": {
   "codemirror_mode": {
    "name": "ipython",
    "version": 3
   },
   "file_extension": ".py",
   "mimetype": "text/x-python",
   "name": "python",
   "nbconvert_exporter": "python",
   "pygments_lexer": "ipython3",
   "version": "3.11.9"
  }
 },
 "nbformat": 4,
 "nbformat_minor": 2
}
