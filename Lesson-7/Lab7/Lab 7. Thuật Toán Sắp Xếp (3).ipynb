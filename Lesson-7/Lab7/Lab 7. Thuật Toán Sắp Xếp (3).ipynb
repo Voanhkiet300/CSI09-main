{
 "cells": [
  {
   "cell_type": "markdown",
   "metadata": {
    "id": "IPaJw9cX81Nu"
   },
   "source": [
    "## <center>Computer Science Intensive Course - MindX</center>\n",
    "![](./assets/logo.png)\n",
    "# <center>LAB 7. THUẬT TOÁN SẮP XẾP (3)</center>"
   ]
  },
  {
   "cell_type": "markdown",
   "metadata": {
    "id": "crWQ7jJR81N9"
   },
   "source": [
    "## Bài 1. Rating\n",
    "\n",
    "Một trang web chứa đánh giá (rating) của các quán trà sữa theo thang điểm từ 0 đến 5. Điểm đánh giá khi hiển thị cho người dùng sẽ được làm tròn đến 0.5. Ví dụ rating thật là 4.32 sẽ được làm tròn thành 4.5; 3.21 được làm tròn thành 3.0.\n",
    "\n",
    "**Yêu cầu**: Cho danh sách rating hiển thị cho người dùng với định dạng như bên dưới. Hãy sắp xếp danh sách theo thứ tự rating giảm dần. Giữ nguyên vị trí tương đối của các quán có cùng rating (VD quán A nằm trước B nhưng có cùng rating thì sau khi sắp xếp, A vẫn nằm trước B).\n",
    "\n",
    "**Input**: Một danh sách chứa *0 < n < 10<sup>6</sup>* quán và rating đã được tổng kết để hiển thị cho người dùng. Mỗi giá trị là một số thực nằm trong khoảng [0, 5], đã được làm tròn đến 0.5.  \n",
    "**Output**: Danh sách đã được sắp xếp.  \n",
    "**Ví dụ**:\n",
    "- Input: [('Phuc Long', 4.0), ('Tocotoco', 4.0), ('Share Tea', 3.5), ('Gongcha', 4.5), ('Soya', 3.5), ('Koi Thé', 4.5), ('The Alley', 5.0)]\n",
    "- Output: [('The Alley', 5.0), ('Gongcha', 4.5), ('Koi Thé', 4.5), ('Phuc Long', 4.0), ('Tocotoco', 4.0), ('Share Tea', 3.5), ('Soya', 3.5)]"
   ]
  },
  {
   "cell_type": "code",
   "execution_count": 32,
   "metadata": {},
   "outputs": [],
   "source": [
    "list = [('Phuc Long', 4.0), ('Tocotoco', 4.0), ('Share Tea', 3.5), ('Gongcha', 4.5), ('Soya', 3.5), ('Koi Thé', 4.5), ('The Alley', 5.0)]"
   ]
  },
  {
   "cell_type": "code",
   "execution_count": 106,
   "metadata": {
    "id": "iA2jK88D81OD"
   },
   "outputs": [
    {
     "data": {
      "text/plain": [
       "[('The Alley', 5.0),\n",
       " ('Koi Thé', 4.5),\n",
       " ('Gongcha', 4.5),\n",
       " ('Tocotoco', 4.0),\n",
       " ('Phuc Long', 4.0),\n",
       " ('Soya', 3.5),\n",
       " ('Share Tea', 3.5)]"
      ]
     },
     "execution_count": 106,
     "metadata": {},
     "output_type": "execute_result"
    }
   ],
   "source": [
    "count_list = []\n",
    "def counting_sort_rating():\n",
    "    count = 0\n",
    "    for i in range(1, 11):\n",
    "        count += 0.5\n",
    "        for j in range(len(list)):\n",
    "            if list[j][1] == count:\n",
    "                count_list.append(list[j])\n",
    "    return count_list\n",
    "counting_sort_rating()[::-1]\n",
    "# list"
   ]
  },
  {
   "cell_type": "markdown",
   "metadata": {
    "id": "tfVVjTTp81OL"
   },
   "source": [
    "## Bài 2. Phần Tử Lớn Thứ Ba\n",
    "\n",
    "**Yêu cầu**: Cho một dãy các số nguyên, hãy đếm số lần xuất hiện của phần tử lớn thứ 3 trong dãy.  \n",
    "\n",
    "**Input**: Một dãy *arr* chứa *0 < n < 10<sup>6</sup>* số nguyên. Mỗi phần tử có giá trị trong khoảng [-10<sup>9</sup>, 10<sup>9</sup>].  \n",
    "**Output**: Một số nguyên là số lần xuất hiện của phần tử lớn thứ ba trong dãy. Trả về 0 nếu không tìm thấy.  \n",
    "**Ví dụ**:  \n",
    "\n",
    "Ví dụ 1:  \n",
    "- Input: [3, 2, 1, 5, 4, 7, 6, 6, 5]\n",
    "- Output: 2\n",
    "- Giải thích: Phần tử lớn thứ ba trong dãy là 5. Phần tử này xuất hiện 2 lần.\n",
    "\n",
    "Ví dụ 2:  \n",
    "- Input: [3, 2, 3, 2]\n",
    "- Output: 0\n",
    "- Giải thích: Dãy không có phần tử lớn thứ 3."
   ]
  },
  {
   "cell_type": "code",
   "execution_count": 8,
   "metadata": {},
   "outputs": [],
   "source": [
    "list1 = [3, 2, 1, 5, 4, 7, 6, 6, 5]\n",
    "list2 = [3, 2, 3, 2]"
   ]
  },
  {
   "cell_type": "code",
   "execution_count": 23,
   "metadata": {
    "id": "Hh0s5MWN81OO"
   },
   "outputs": [
    {
     "name": "stdout",
     "output_type": "stream",
     "text": [
      "[1, 2, 3, 4, 5, 6, 7]\n"
     ]
    }
   ],
   "source": [
    "def count_third_largest(list):\n",
    "    if len(list) < 1:\n",
    "        return None\n",
    "    \n",
    "    count_list = [0] * max(len(list), max(list))\n",
    "    \n",
    "    for i in range(len(list)):\n",
    "        # print(list[i])\n",
    "        count_list[list[i]] += 1\n",
    "    list = []\n",
    "    count = 0\n",
    "    for i in range(0, len(count_list)):\n",
    "        if count_list[i] > 0:\n",
    "            list.append(i)\n",
    "            \n",
    "    return list\n",
    "print(count_third_largest(list1))"
   ]
  },
  {
   "cell_type": "markdown",
   "metadata": {
    "id": "Bog3Rc9I81OR"
   },
   "source": [
    "## Bài 3. Hàm sorted(): So Sánh Trên Key\n",
    "\n",
    "Trong hàm *sorted()* cho sẵn của Python, ngoài việc cho hàm sắp xếp tăng và giảm, ta còn có thể truyền thông số để hàm sắp xếp các object dựa vào một thành phần của object đó.  \n",
    "\n",
    "**Ví dụ**: Bài toán sắp xếp rating các quán trà sữa, nhưng các giá trị rating không được làm tròn đến 0.5. Do đó, ta không thể dùng thuật toán Counting Sort."
   ]
  },
  {
   "cell_type": "code",
   "execution_count": null,
   "metadata": {
    "id": "A74QK29w81OS"
   },
   "outputs": [],
   "source": [
    "ratings = [('Phuc Long', 4.0827983),\n",
    "           ('Tocotoco', 4.198729),\n",
    "           ('Share Tea', 3.094380),\n",
    "           ('Gongcha', 4.234435434),\n",
    "           ('Soya', 3.4883484),\n",
    "           ('Koi Thé', 4.09349430),\n",
    "           ('The Alley', 4.91273687)]"
   ]
  },
  {
   "cell_type": "markdown",
   "metadata": {
    "id": "Ia0ZhkiI81OT"
   },
   "source": [
    "Ta có thể sắp xếp dãy trên dựa vào phần tử thứ 2 của mỗi *tuple* bằng hàm *sorted()* như sau:"
   ]
  },
  {
   "cell_type": "code",
   "execution_count": null,
   "metadata": {
    "id": "j66S4Y1v81OU",
    "outputId": "0c0200f1-4c6d-4ad9-de1a-7d7ca3670361"
   },
   "outputs": [
    {
     "data": {
      "text/plain": [
       "[('The Alley', 4.91273687),\n",
       " ('Gongcha', 4.234435434),\n",
       " ('Tocotoco', 4.198729),\n",
       " ('Koi Thé', 4.0934943),\n",
       " ('Phuc Long', 4.0827983),\n",
       " ('Soya', 3.4883484),\n",
       " ('Share Tea', 3.09438)]"
      ]
     },
     "execution_count": 9,
     "metadata": {},
     "output_type": "execute_result"
    }
   ],
   "source": [
    "def sort_ratings(ratings):\n",
    "    return sorted(ratings, reverse=True, key=lambda rating: rating[1])\n",
    "\n",
    "sort_ratings(ratings)"
   ]
  },
  {
   "cell_type": "markdown",
   "metadata": {
    "id": "h3IPcCiV81OV"
   },
   "source": [
    "**Giải thích**: Ta đưa vào tham số *key* một hàm được viết dưới dạng *lambda rating: rating[1]*\n",
    "- Hàm này nhận một tham số *rating* là một phần tử của dãy cần sắp xếp. VD: phần tử ('Phuc Long', 4.0827983).\n",
    "- Hàm trả về một giá trị dùng để so sánh với các phần tử khác. Trong trường hợp này, hàm trả về rating[1] là điểm đánh giá của một quán.\n",
    "- Như vậy, hàm *sorted()* có thể biết được cách để so sánh 2 object với nhau, từ đó thực hiện việc sắp xếp.  \n",
    "\n",
    "Ta còn có thể viết hàm để đưa vào tham số *key* như sau:"
   ]
  },
  {
   "cell_type": "code",
   "execution_count": null,
   "metadata": {
    "id": "xbDrbVOa81OW"
   },
   "outputs": [],
   "source": [
    "def get_compare_key(rating):\n",
    "    return rating[1]\n",
    "\n",
    "def sort_ratings(ratings):\n",
    "    return sorted(ratings, reverse=True, key=get_compare_key)"
   ]
  },
  {
   "cell_type": "markdown",
   "metadata": {
    "id": "DmZ67E_-81OX"
   },
   "source": [
    "**Yêu cầu**: Thực hiện lại bài toán sắp xếp danh sách điểm, sao cho học sinh có điểm Toán cao hơn đứng trước.  \n",
    "\n",
    "**Input**: Một *list* gồm *0 < n < 10<sup>4</sup>* báo cáo điểm của học sinh.  \n",
    "**Output**: List các báo cáo điểm sau khi đã sắp xếp."
   ]
  },
  {
   "cell_type": "code",
   "execution_count": 108,
   "metadata": {
    "id": "JX5uPr1W81OY"
   },
   "outputs": [],
   "source": [
    "student_grade_list = [\n",
    "    {'id': 984, 'math': 9, 'literature': 5},\n",
    "    {'id': 12, 'math': 10, 'literature': 4},\n",
    "    {'id': 324, 'math': 10, 'literature': 5},\n",
    "    {'id': 890, 'math': 5, 'literature': 7},\n",
    "    {'id': 223, 'math': 8, 'literature': 8},\n",
    "    {'id': 543, 'math': 8, 'literature': 5},\n",
    "]"
   ]
  },
  {
   "cell_type": "code",
   "execution_count": 109,
   "metadata": {
    "id": "skKe12d281Oa"
   },
   "outputs": [
    {
     "data": {
      "text/plain": [
       "[{'id': 12, 'math': 10, 'literature': 4},\n",
       " {'id': 324, 'math': 10, 'literature': 5},\n",
       " {'id': 984, 'math': 9, 'literature': 5},\n",
       " {'id': 223, 'math': 8, 'literature': 8},\n",
       " {'id': 543, 'math': 8, 'literature': 5},\n",
       " {'id': 890, 'math': 5, 'literature': 7}]"
      ]
     },
     "execution_count": 109,
     "metadata": {},
     "output_type": "execute_result"
    }
   ],
   "source": [
    "def sort_student_grades_math(grade_list):\n",
    "    return sorted(grade_list, reverse=True, key=lambda grade_list: grade_list[\"math\"])\n",
    "sort_student_grades_math(student_grade_list)"
   ]
  },
  {
   "cell_type": "markdown",
   "metadata": {
    "id": "4MotFcot81Od"
   },
   "source": [
    "## Bài 4. Hàm sorted(): So Sánh Trên Nhiều Key\n",
    "\n",
    "Trong bài toán ban đầu, ta cần phải sắp xếp danh sách dựa theo cả điểm Toán và Văn. Để làm được điều đó, ta có thể trả về nhiều *key* để so sánh giữa các phần tử.  \n",
    "\n",
    "**Ví dụ**: Bài toán sắp xếp rating các quán trà sữa. Nếu rating bằng nhau, ta tiếp tục sắp xếp tên quán theo thứ tự bảng chữ cái."
   ]
  },
  {
   "cell_type": "code",
   "execution_count": null,
   "metadata": {
    "id": "uwOmLI4u81Od"
   },
   "outputs": [],
   "source": [
    "ratings = [('Tocotoco', 4.0),\n",
    "           ('Phuc Long', 4.0),\n",
    "           ('Share Tea', 3.5),\n",
    "           ('Gongcha', 4.5),\n",
    "           ('Soya', 3.5),\n",
    "           ('Koi Thé', 4.5),\n",
    "           ('The Alley', 5.0)]"
   ]
  },
  {
   "cell_type": "code",
   "execution_count": null,
   "metadata": {
    "id": "KiD-BtBL81Oe",
    "outputId": "998f72e3-c60f-4f69-db7a-28a94d428045"
   },
   "outputs": [
    {
     "data": {
      "text/plain": [
       "[('The Alley', 5.0),\n",
       " ('Koi Thé', 4.5),\n",
       " ('Gongcha', 4.5),\n",
       " ('Tocotoco', 4.0),\n",
       " ('Phuc Long', 4.0),\n",
       " ('Soya', 3.5),\n",
       " ('Share Tea', 3.5)]"
      ]
     },
     "execution_count": 16,
     "metadata": {},
     "output_type": "execute_result"
    }
   ],
   "source": [
    "def sort_ratings(ratings):\n",
    "    return sorted(ratings, reverse=True, key=lambda rating: (rating[1], rating[0]))\n",
    "\n",
    "sort_ratings(ratings)"
   ]
  },
  {
   "cell_type": "markdown",
   "metadata": {
    "id": "lra3BX4m81Oe"
   },
   "source": [
    "Tuy nhiên, phương pháp này không cho phép ta sắp xếp xen kẽ giữa giảm dần và tăng dần. Do đó, để sắp xếp theo rating giảm dần và tên quán tăng dần, ta gọi hàm *sorted()* hai lần:"
   ]
  },
  {
   "cell_type": "code",
   "execution_count": null,
   "metadata": {
    "id": "dCujplL_81Of",
    "outputId": "f6c5ff24-9952-4f17-ea4a-eea628646206"
   },
   "outputs": [
    {
     "data": {
      "text/plain": [
       "[('The Alley', 5.0),\n",
       " ('Gongcha', 4.5),\n",
       " ('Koi Thé', 4.5),\n",
       " ('Phuc Long', 4.0),\n",
       " ('Tocotoco', 4.0),\n",
       " ('Share Tea', 3.5),\n",
       " ('Soya', 3.5)]"
      ]
     },
     "execution_count": 17,
     "metadata": {},
     "output_type": "execute_result"
    }
   ],
   "source": [
    "def sort_ratings(ratings):\n",
    "    temp = sorted(ratings, key=lambda rating: rating[0])\n",
    "    return sorted(temp, reverse=True, key=lambda rating: rating[1])\n",
    "\n",
    "sort_ratings(ratings)"
   ]
  },
  {
   "cell_type": "markdown",
   "metadata": {
    "id": "fJP4lxVK81Of"
   },
   "source": [
    "**Yêu cầu**: Thực hiện lại bài toán sắp xếp danh sách điểm, sao cho học sinh có điểm Toán cao hơn đứng trước. Nếu điểm Toán bằng nhau, học sinh có điểm Văn cao hơn đứng trước.  \n",
    "\n",
    "**Input**: Một *list* gồm *0 < n < 10<sup>4</sup>* báo cáo điểm của học sinh.  \n",
    "**Output**: List các báo cáo điểm sau khi đã sắp xếp."
   ]
  },
  {
   "cell_type": "code",
   "execution_count": null,
   "metadata": {
    "id": "qZ1s8QTS81Of"
   },
   "outputs": [],
   "source": [
    "student_grade_list = [\n",
    "    {'id': 984, 'math': 9, 'literature': 5},\n",
    "    {'id': 12, 'math': 10, 'literature': 4},\n",
    "    {'id': 324, 'math': 10, 'literature': 5},\n",
    "    {'id': 890, 'math': 5, 'literature': 7},\n",
    "    {'id': 223, 'math': 8, 'literature': 8},\n",
    "    {'id': 543, 'math': 8, 'literature': 5},\n",
    "]"
   ]
  },
  {
   "cell_type": "code",
   "execution_count": 111,
   "metadata": {
    "id": "mt7hglV681Og"
   },
   "outputs": [
    {
     "data": {
      "text/plain": [
       "[{'id': 324, 'math': 10, 'literature': 5},\n",
       " {'id': 12, 'math': 10, 'literature': 4},\n",
       " {'id': 984, 'math': 9, 'literature': 5},\n",
       " {'id': 223, 'math': 8, 'literature': 8},\n",
       " {'id': 543, 'math': 8, 'literature': 5},\n",
       " {'id': 890, 'math': 5, 'literature': 7}]"
      ]
     },
     "execution_count": 111,
     "metadata": {},
     "output_type": "execute_result"
    }
   ],
   "source": [
    "def sort_student_grades_all(grade_list):\n",
    "    temp = sorted(grade_list, reverse=True, key=lambda grade_list: grade_list[\"literature\"])\n",
    "    return sorted(temp, reverse=True, key=lambda grade_list: grade_list[\"math\"])\n",
    "sort_student_grades_all(student_grade_list)"
   ]
  }
 ],
 "metadata": {
  "colab": {
   "provenance": []
  },
  "kernelspec": {
   "display_name": "Python 3",
   "language": "python",
   "name": "python3"
  },
  "language_info": {
   "codemirror_mode": {
    "name": "ipython",
    "version": 3
   },
   "file_extension": ".py",
   "mimetype": "text/x-python",
   "name": "python",
   "nbconvert_exporter": "python",
   "pygments_lexer": "ipython3",
   "version": "3.13.0"
  }
 },
 "nbformat": 4,
 "nbformat_minor": 0
}
