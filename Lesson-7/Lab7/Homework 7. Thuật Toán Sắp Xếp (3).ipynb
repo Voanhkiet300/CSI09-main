{
 "cells": [
  {
   "cell_type": "markdown",
   "metadata": {
    "id": "NeO51Agb83Tz"
   },
   "source": [
    "## <center>Computer Science Intensive Course - MindX</center>\n",
    "![](./assets/logo.png)\n",
    "# <center>HOMEWORK 7. THUẬT TOÁN SẮP XẾP (3)</center>"
   ]
  },
  {
   "cell_type": "markdown",
   "metadata": {
    "id": "ZrmfAAgi83UA"
   },
   "source": [
    "## Bài Tập: Sắp Xếp Hoa Theo Giá\n",
    "\n",
    "**Bài toán**: Cho danh sách các loại hoa được bày bán và giá với định dạng như bên dưới, hãy sắp xếp danh sách theo thứ tự giá tăng dần.  \n",
    "Biết danh sách có *0 < n < 10<sup>6</sup>* loại hoa, mỗi loại có giá tiền từ 10.000đ đến 100.000đ. Mỗi giá tiền đều chẵn theo nghìn đồng (không có giá tiền nào lẻ 500đ hoặc 200đ).  "
   ]
  },
  {
   "cell_type": "code",
   "execution_count": 1,
   "metadata": {
    "id": "mtcaoT3c83UD"
   },
   "outputs": [],
   "source": [
    "flower_prices = [\n",
    "    {'name': 'Red Rose', 'price': 10000},\n",
    "    {'name': 'Lily', 'price': 12000},\n",
    "    {'name': 'Orchid', 'price': 100000},\n",
    "    {'name': 'Blue Rose', 'price': 20000},\n",
    "    {'name': 'Daisy', 'price': 12000},\n",
    "    {'name': 'Tulip', 'price': 20000},\n",
    "    {'name': 'Chrysanthemum', 'price': 10000},\n",
    "    {'name': 'Sunflower', 'price': 20000}\n",
    "]\n"
   ]
  },
  {
   "cell_type": "code",
   "execution_count": null,
   "metadata": {},
   "outputs": [],
   "source": [
    "# Sort the list of flowers by price in descending order\n",
    "flower_prices.sort(key=lambda x: x['price'])\n",
    "flower_prices"
   ]
  },
  {
   "cell_type": "code",
   "execution_count": 2,
   "metadata": {},
   "outputs": [],
   "source": [
    "# counting sort\n",
    "def counting_sort_price(flower_arr):\n",
    "  # xet truong hop ngoai le\n",
    "  if len(flower_arr) <= 1:\n",
    "    return flower_arr\n",
    "\n",
    "  # chuyen gioi han: 10 -> 100 (chia cho 1000)\n",
    "  min_range = 10\n",
    "  max_range = 100\n",
    "  val_range = max_range - min_range + 1 # step\n",
    "\n",
    "  # count so lan xuat hien cua moi gia tri\n",
    "  count = [0] * val_range\n",
    "  for i, flower in enumerate(flower_arr):\n",
    "    # chia price -> 1000 -> tim vi tri\n",
    "    count[flower['price'] // 1000 - min_range] += 1\n",
    "\n",
    "  # dem tong so luong\n",
    "  next_indices = count\n",
    "  total_count = 0\n",
    "  for i in range(val_range):\n",
    "    tmp = next_indices[i]\n",
    "    next_indices[i] = total_count\n",
    "    total_count += tmp\n",
    "\n",
    "  sorted_arr = [None] * len(flower_arr)\n",
    "  for flower in flower_arr:\n",
    "    count_index = flower[\"price\"]//1000 - min_range\n",
    "    sorted_arr[next_indices[count_index]] = flower\n",
    "    next_indices[count_index] += 1\n",
    "\n",
    "  return sorted_arr"
   ]
  },
  {
   "cell_type": "code",
   "execution_count": 3,
   "metadata": {},
   "outputs": [
    {
     "data": {
      "text/plain": [
       "[{'name': 'Red Rose', 'price': 10000},\n",
       " {'name': 'Chrysanthemum', 'price': 10000},\n",
       " {'name': 'Lily', 'price': 12000},\n",
       " {'name': 'Daisy', 'price': 12000},\n",
       " {'name': 'Blue Rose', 'price': 20000},\n",
       " {'name': 'Tulip', 'price': 20000},\n",
       " {'name': 'Sunflower', 'price': 20000},\n",
       " {'name': 'Orchid', 'price': 100000}]"
      ]
     },
     "execution_count": 3,
     "metadata": {},
     "output_type": "execute_result"
    }
   ],
   "source": [
    "counting_sort_price(flower_prices)"
   ]
  }
 ],
 "metadata": {
  "colab": {
   "provenance": []
  },
  "kernelspec": {
   "display_name": "Python 3",
   "language": "python",
   "name": "python3"
  },
  "language_info": {
   "codemirror_mode": {
    "name": "ipython",
    "version": 3
   },
   "file_extension": ".py",
   "mimetype": "text/x-python",
   "name": "python",
   "nbconvert_exporter": "python",
   "pygments_lexer": "ipython3",
   "version": "3.13.0"
  }
 },
 "nbformat": 4,
 "nbformat_minor": 0
}
