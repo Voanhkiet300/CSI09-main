{
 "cells": [
  {
   "cell_type": "markdown",
   "metadata": {
    "id": "u4wCj0uKbXOw"
   },
   "source": [
    "## <center>Computer Science Intensive Course - MindX</center>\n",
    "![](./assets/logo.png)\n",
    "# <center>LAB 10. TREE VÀ GRAPH</center>"
   ]
  },
  {
   "cell_type": "code",
   "execution_count": 1,
   "metadata": {},
   "outputs": [],
   "source": [
    "from collections import deque"
   ]
  },
  {
   "cell_type": "markdown",
   "metadata": {
    "id": "vJFTTPL1bXPA"
   },
   "source": [
    "## Bài 1. Quần Đảo\n",
    "\n",
    "Cho một tập hợp đảo và các tuyến tàu hai chiều giữa các đảo. Ta chỉ có thể di chuyển từ đảo A đến đảo B nếu có ít nhất một trong ba điều kiện sau xảy ra:\n",
    "- Có tuyến tàu từ A đến B\n",
    "- Tồn tại một đảo C sao cho có tuyến tàu từ A đến C và từ C đến B\n",
    "- Tồn tại đảo D và đảo E sao cho có tuyến tàu AD, EB và ta có thể di chuyển từ D đến E\n",
    "\n",
    "Ta định nghĩa một quần đảo là một tập hợp con của các đảo sao cho:\n",
    "+ Có thể di chuyển giữa hai đảo bất kỳ trong cùng quần đảo\n",
    "+ Không thể di chuyển từ một đảo trong quần đảo này đến một đảo trong quần đảo khác\n",
    "\n",
    "**Yêu cầu**: Cho thông tin về tập hợp các đảo và tuyến tàu, hãy tìm số quần đảo trong tập hợp đảo.\n",
    "\n",
    "**Input**: Một đồ thị vô hướng không trọng số dưới dạng danh sách kề, với các đỉnh là các số nguyên được đánh số từ 0 tương ứng với các đảo.  \n",
    "&nbsp;&nbsp;&nbsp;&nbsp;&nbsp;&nbsp;&nbsp;&nbsp;&nbsp;&nbsp; Biết *0 < số đảo < 100* và *0 <= số tuyến tàu < 1000*.  \n",
    "**Output**: Một số nguyên >= 1 là số quần đảo tìm thấy.  \n",
    "**Ví dụ**:  \n",
    "\n",
    "- Input: {0: [4], 1: [2], 2: [1], 3: [4], 4: [0, 3]}\n",
    "- Output: 2\n",
    "- Giải thích: Quần đảo thứ nhất bao gồm đảo *(0, 3, 4)*, quần đảo thứ hai gồm đảo *(1, 2)*\n",
    "\n",
    "![](./assets/disconnected-graph.png)"
   ]
  },
  {
   "cell_type": "code",
   "execution_count": null,
   "metadata": {},
   "outputs": [],
   "source": [
    "def traverse(island, graph, visited):\n",
    "    # ngoai le: neu diem da xet => khong xet lai\n",
    "    if island in visited:\n",
    "        return\n",
    "\n",
    "    # them dao dang xet vao danh sach da xet truoc\n",
    "    visited.add(island)\n",
    "    # kiem tra tung dao xung quanh\n",
    "    for vertex in graph[island]:\n",
    "      # neu danh sach dao duoc di qua chua co trong visited => them vao va kiem tra tung dao\n",
    "        if vertex not in visited:\n",
    "            traverse(vertex, graph, visited) # de quy"
   ]
  },
  {
   "cell_type": "code",
   "execution_count": null,
   "metadata": {
    "id": "nG7jPc8ubXPD"
   },
   "outputs": [],
   "source": [
    "def count_island_groups(graph):\n",
    "    # init\n",
    "    count = 0\n",
    "    visited = set()\n",
    "\n",
    "    # kiem tra tung dao trong do thi\n",
    "    for island in graph:\n",
    "      if island not in visited:\n",
    "        traverse(island, graph, visited)\n",
    "        count += 1\n",
    "    return count"
   ]
  },
  {
   "cell_type": "code",
   "execution_count": null,
   "metadata": {},
   "outputs": [],
   "source": [
    "count_island_groups({0: [4], 1: [2], 2: [1], 3: [4], 4: [0, 3]})"
   ]
  },
  {
   "cell_type": "markdown",
   "metadata": {
    "id": "RO5LF5oybXPH"
   },
   "source": [
    "## Bài 2. Tính Biểu Thức\n",
    "\n",
    "Một biểu thức với các toán tử hai ngôi cũng có thể được lưu trên một cây nhị phân. Ở dạng này, ta có thể dễ dàng tính giá trị của biểu thức hoặc chuyển biểu thức về các dạng *infix, postfix, prefix*.\n",
    "\n",
    "**Yêu cầu**: Cho một cây nhị phân chứa biểu thức toán học bao gồm số thực và các toán tử hai ngôi (<code>+ - * / ^</code>) với định dạng như bên dưới, hãy tính giá trị của biểu thức.  \n",
    "\n",
    "**Input**: Một cây nhị phân chứa biểu thức với *0 <= số tầng <= 10*.  \n",
    "**Output**: Một số thực là giá trị của biểu thức. Test case đảm bảo mọi biểu thức đều hợp lệ và có giá trị là số thực.  \n",
    "**Ví dụ**:\n",
    "- Input: <code>expression_tree</code>\n",
    "- Output: 31.0\n",
    "- Giải thích: <code>3 + (5 + 9) * 2 = 31</code>\n",
    "\n",
    "![](./assets/expression-tree.png)"
   ]
  },
  {
   "cell_type": "code",
   "execution_count": 2,
   "metadata": {
    "id": "CljoYQ7IbXPJ"
   },
   "outputs": [],
   "source": [
    "class Node:\n",
    "    def __init__(self, data):\n",
    "        self.data = data\n",
    "        self.left = None\n",
    "        self.right = None\n",
    "\n",
    "root = Node('+')\n",
    "root.left, root.right = Node(3), Node('*')\n",
    "root.right.left, root.right.right = Node('+'), Node(2)\n",
    "root.right.left.left, root.right.left.right = Node(5), Node(9)"
   ]
  },
  {
   "cell_type": "code",
   "execution_count": 3,
   "metadata": {},
   "outputs": [],
   "source": [
    "# evaluate result of a single operation\n",
    "def eval_operation(value1, value2, operator):\n",
    "    if operator == '+':\n",
    "        return value1 + value2\n",
    "    if operator == '-':\n",
    "        return value1 - value2\n",
    "    if operator == '*':\n",
    "        return value1 * value2\n",
    "    if operator == '/':\n",
    "        return value1 / value2\n",
    "    if operator == '^':\n",
    "        return value1 ** value2"
   ]
  },
  {
   "cell_type": "code",
   "execution_count": 5,
   "metadata": {
    "id": "cYdTuvgHbXPK"
   },
   "outputs": [],
   "source": [
    "def evaluate_expr(node):\n",
    "  # kiem tra node la toan tu\n",
    "  if node.data in ['+', '-', '*', '/', '^']:\n",
    "    # xet tiep den cac nhanh con\n",
    "    left = evaluate_expr(node.left)\n",
    "    right = evaluate_expr(node.right)\n",
    "    return eval_operation(left, right, node.data)\n",
    "  else:\n",
    "    return node.data"
   ]
  },
  {
   "cell_type": "code",
   "execution_count": 6,
   "metadata": {},
   "outputs": [
    {
     "data": {
      "text/plain": [
       "31"
      ]
     },
     "execution_count": 6,
     "metadata": {},
     "output_type": "execute_result"
    }
   ],
   "source": [
    "evaluate_expr(root)"
   ]
  },
  {
   "cell_type": "markdown",
   "metadata": {
    "id": "mm2coKBBbXPN"
   },
   "source": [
    "## Bài 3. Trang Trại\n",
    "\n",
    "Cho một khu đất hình chữ nhật được thể hiện dưới dạng ma trận, bao gồm nhiều ô có kích thước 1x1. Khu đất này chứa duy nhất một trang trại được bao quanh bởi hàng rào, mỗi rào có kích thước 1x1.\n",
    "\n",
    "**Ví dụ**: Một khu đất được biểu diễn như hình dưới. Ô có giá trị *0* thể hiện đất, ô giá trị *1* thể hiện hàng rào.\n",
    "\n",
    "![](./assets/farm.png)\n",
    "\n",
    "Một trang trại được xác định là phần đất được bao quanh hoàn toàn bởi hàng rào (phần màu xanh lá). Trang trại trong hình trên có tổng diện tích là 9 (không tính phần rào).\n",
    "\n",
    "**Yêu cầu**: Cho một bản đồ khu đất với định dạng như trên, hãy tìm diện tích của trang trại trong khu đất.  \n",
    "\n",
    "Một số ràng buộc:\n",
    "- Khu đất chỉ chứa duy nhất một trang trại.\n",
    "- Trang trại luôn được bao quanh bởi hàng rào sao cho: tất cả 4 ô liền kề của một ô bất kì trong trang trại luôn là một ô thuộc trang trại hoặc một ô thuộc hàng rào. Một ô được coi là liền kề với 4 ô xung quanh theo hướng: trên, dưới, trái, phải.\n",
    "- Từ một ô bất kì trong trang trại, ta luôn có thể đi đến tất cả các ô khác trong trang trại bằng cách đi qua các ô liền kề mà không bị vướng hàng rào.\n",
    "\n",
    "**Input**: Một bản đồ khu đất dưới dạng list chứa *m* các list *n* phần tử, với 2 < m, n < 1000.  \n",
    "**Output**: Một số nguyên là diện tích của trang trại. Test case đảm bảo mọi khu đất đều chứa duy nhất một trang trại có diện tích > 0.  \n",
    "**Ví dụ**:\n",
    "- Input: <code>land_map</code>\n",
    "- Output: 9"
   ]
  },
  {
   "cell_type": "code",
   "execution_count": 7,
   "metadata": {
    "id": "EsC6iO3obXPO"
   },
   "outputs": [],
   "source": [
    "land_map = [\n",
    "    [0, 0, 0, 0, 0, 0, 0, 0, 0, 0],\n",
    "    [0, 0, 0, 0, 0, 0, 0, 0, 0, 0],\n",
    "    [0, 0, 0, 0, 1, 1, 1, 1, 0, 0],\n",
    "    [0, 0, 0, 1, 0, 0, 0, 0, 1, 0],\n",
    "    [0, 0, 1, 0, 0, 0, 0, 0, 1, 0],\n",
    "    [0, 0, 0, 1, 1, 1, 1, 1, 0, 0],\n",
    "    [0, 0, 0, 0, 0, 0, 0, 0, 0, 0]\n",
    "]"
   ]
  },
  {
   "cell_type": "code",
   "execution_count": 8,
   "metadata": {},
   "outputs": [],
   "source": [
    "def traverse_and_measure (row, col, m, n, land_map, visited, is_farm, area):\n",
    "  # kiem tra o hien tai co trong visited khong\n",
    "  visited[row][col] = True\n",
    "\n",
    "  # neu cham vien (hang rao - 1) => dung xet tu o do\n",
    "  if row == 0 or col == 0 or row == m - 1 or col == n - 1:\n",
    "    is_farm[0] = False\n",
    "    return\n",
    "\n",
    "  # neu van con trong trang trai\n",
    "  if is_farm[0]:\n",
    "    area[0] += 1 # cong don dien tich\n",
    "\n",
    "  # xet den cac o dat ben canh: tren phai trai duoi\n",
    "  for i, j in [(row-1, col), (row, col+1), (row, col-1), (row+1, col)]:\n",
    "    if land_map[i][j] == 0 and not visited[i][j]:\n",
    "      traverse_and_measure(i, j, m, n, land_map, visited, is_farm, area)"
   ]
  },
  {
   "cell_type": "code",
   "execution_count": 9,
   "metadata": {
    "id": "FLWyRT-nbXPO"
   },
   "outputs": [],
   "source": [
    "def find_farm_area(land_map):\n",
    "    # khai bao do dai cot / do dai 1 hang\n",
    "    m = len(land_map)\n",
    "    n = len(land_map[0])\n",
    "\n",
    "    # tao danh sach da xet\n",
    "    visited = [[False] * n for _ in range(m)]\n",
    "\n",
    "    # kiem tra tung o dat\n",
    "    for row in range(m):\n",
    "        for col in range(n):\n",
    "          #  neu o nay khong phai hang rao => xet\n",
    "            if land_map[row][col] == 0 and not visited[row][col]:\n",
    "              # su dung 1 danh sach luu so luong o dat trong hang rao\n",
    "                is_farm = [True]\n",
    "                area = [0]\n",
    "                traverse_and_measure(row, col, m, n, land_map, visited, is_farm, area)\n",
    "                # neu tim duoc dat trong hang rao => ket thuc ham\n",
    "                if is_farm[0]:\n",
    "                    return area[0]"
   ]
  },
  {
   "cell_type": "code",
   "execution_count": 10,
   "metadata": {},
   "outputs": [
    {
     "data": {
      "text/plain": [
       "9"
      ]
     },
     "execution_count": 10,
     "metadata": {},
     "output_type": "execute_result"
    }
   ],
   "source": [
    "find_farm_area(land_map)"
   ]
  }
 ],
 "metadata": {
  "colab": {
   "provenance": []
  },
  "kernelspec": {
   "display_name": "Python 3",
   "language": "python",
   "name": "python3"
  },
  "language_info": {
   "codemirror_mode": {
    "name": "ipython",
    "version": 3
   },
   "file_extension": ".py",
   "mimetype": "text/x-python",
   "name": "python",
   "nbconvert_exporter": "python",
   "pygments_lexer": "ipython3",
   "version": "3.13.0"
  }
 },
 "nbformat": 4,
 "nbformat_minor": 0
}
